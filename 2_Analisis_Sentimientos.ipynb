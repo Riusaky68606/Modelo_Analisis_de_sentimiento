{
  "nbformat": 4,
  "nbformat_minor": 0,
  "metadata": {
    "colab": {
      "provenance": []
    },
    "kernelspec": {
      "name": "python3",
      "display_name": "Python 3"
    },
    "language_info": {
      "name": "python"
    }
  },
  "cells": [
    {
      "cell_type": "markdown",
      "source": [
        "# Cargar y explorar los datos"
      ],
      "metadata": {
        "id": "l7aL_99Zn_5w"
      }
    },
    {
      "cell_type": "code",
      "source": [
        "import pandas as pd"
      ],
      "metadata": {
        "id": "P6iYYd5EoDYd"
      },
      "execution_count": null,
      "outputs": []
    },
    {
      "cell_type": "code",
      "source": [
        "# Cargar de data\n",
        "df_hoteles = pd.read_excel('comentarios_hoteles_tab.xlsx')\n",
        "df_restaurantes = pd.read_excel('comentarios_restaurante_tab .xlsx')\n",
        "df_bares = pd.read_excel('comentarios_bares_tab.xlsx')"
      ],
      "metadata": {
        "id": "Z6AuQNlfoN4Z"
      },
      "execution_count": null,
      "outputs": []
    },
    {
      "cell_type": "markdown",
      "source": [
        "## Visualizaciones"
      ],
      "metadata": {
        "id": "aLtgMa-EoWY-"
      }
    },
    {
      "cell_type": "code",
      "source": [
        "df_hoteles.info()"
      ],
      "metadata": {
        "colab": {
          "base_uri": "https://localhost:8080/"
        },
        "id": "eFVGphjzoITW",
        "outputId": "c6fefc0c-74fd-45b0-8344-d53437d71d4f"
      },
      "execution_count": null,
      "outputs": [
        {
          "output_type": "stream",
          "name": "stdout",
          "text": [
            "<class 'pandas.core.frame.DataFrame'>\n",
            "RangeIndex: 7166 entries, 0 to 7165\n",
            "Data columns (total 18 columns):\n",
            " #   Column                 Non-Null Count  Dtype  \n",
            "---  ------                 --------------  -----  \n",
            " 0   Comentario             7165 non-null   object \n",
            " 1   Fecha                  7166 non-null   object \n",
            " 2   Estrellas              7166 non-null   object \n",
            " 3   Nombre_Persona         7166 non-null   object \n",
            " 4   Numero_resenas         6318 non-null   object \n",
            " 5   Información Adicional  1764 non-null   object \n",
            " 6   Nombre                 7166 non-null   object \n",
            " 7   Tipo Establecimiento   7166 non-null   object \n",
            " 8   Tipo                   5780 non-null   object \n",
            " 9   Dirección              6600 non-null   object \n",
            " 10  Coordenadas            7166 non-null   object \n",
            " 11  Latitud                7166 non-null   float64\n",
            " 12  Longitud               7166 non-null   float64\n",
            " 13  tipo_persona           3930 non-null   object \n",
            " 14  num_reseñas            2078 non-null   float64\n",
            " 15  num_fotos              4045 non-null   float64\n",
            " 16  Calificación           7162 non-null   float64\n",
            " 17  Fecha_numero           7166 non-null   object \n",
            "dtypes: float64(5), object(13)\n",
            "memory usage: 1007.8+ KB\n"
          ]
        }
      ]
    },
    {
      "cell_type": "code",
      "source": [
        "df_hoteles.shape"
      ],
      "metadata": {
        "colab": {
          "base_uri": "https://localhost:8080/"
        },
        "id": "AbiT-loJvp3P",
        "outputId": "28a63c3e-f0e7-450c-bbc7-893b530f1a91"
      },
      "execution_count": null,
      "outputs": [
        {
          "output_type": "execute_result",
          "data": {
            "text/plain": [
              "(7166, 19)"
            ]
          },
          "metadata": {},
          "execution_count": 37
        }
      ]
    },
    {
      "cell_type": "code",
      "source": [
        "df_restaurantes.info()"
      ],
      "metadata": {
        "colab": {
          "base_uri": "https://localhost:8080/"
        },
        "id": "5YbT9spcoL5M",
        "outputId": "a73060ab-fb45-4bb5-ac79-0d7c6d6d7234"
      },
      "execution_count": null,
      "outputs": [
        {
          "output_type": "stream",
          "name": "stdout",
          "text": [
            "<class 'pandas.core.frame.DataFrame'>\n",
            "RangeIndex: 4763 entries, 0 to 4762\n",
            "Data columns (total 18 columns):\n",
            " #   Column                 Non-Null Count  Dtype  \n",
            "---  ------                 --------------  -----  \n",
            " 0   Comentario             4763 non-null   object \n",
            " 1   Fecha                  4763 non-null   object \n",
            " 2   Estrellas              4763 non-null   object \n",
            " 3   Nombre_Persona         4763 non-null   object \n",
            " 4   Numero_resenas         4451 non-null   object \n",
            " 5   Información Adicional  2268 non-null   object \n",
            " 6   Nombre                 4763 non-null   object \n",
            " 7   Tipo Establecimiento   4763 non-null   object \n",
            " 8   Tipo                   4763 non-null   object \n",
            " 9   Dirección              4763 non-null   object \n",
            " 10  Coordenadas            4763 non-null   object \n",
            " 11  Latitud                4763 non-null   float64\n",
            " 12  Longitud               4763 non-null   float64\n",
            " 13  Calificación           4763 non-null   int64  \n",
            " 14  tipo_persona           2749 non-null   object \n",
            " 15  num_reseñas            3939 non-null   float64\n",
            " 16  num_fotos              2936 non-null   float64\n",
            " 17  Fecha_numero           4763 non-null   object \n",
            "dtypes: float64(4), int64(1), object(13)\n",
            "memory usage: 669.9+ KB\n"
          ]
        }
      ]
    },
    {
      "cell_type": "code",
      "source": [
        "df_restaurantes.shape"
      ],
      "metadata": {
        "colab": {
          "base_uri": "https://localhost:8080/"
        },
        "id": "BZ-aVd20vyB0",
        "outputId": "8ddfb6e2-33eb-426b-90a2-04c03e892364"
      },
      "execution_count": null,
      "outputs": [
        {
          "output_type": "execute_result",
          "data": {
            "text/plain": [
              "(4763, 19)"
            ]
          },
          "metadata": {},
          "execution_count": 38
        }
      ]
    },
    {
      "cell_type": "code",
      "source": [
        "df_bares.info()"
      ],
      "metadata": {
        "colab": {
          "base_uri": "https://localhost:8080/"
        },
        "id": "4lz_NIt9ob-6",
        "outputId": "9abee9c0-fc8e-4fc8-855c-71ece5c7dd2e"
      },
      "execution_count": null,
      "outputs": [
        {
          "output_type": "stream",
          "name": "stdout",
          "text": [
            "<class 'pandas.core.frame.DataFrame'>\n",
            "RangeIndex: 2931 entries, 0 to 2930\n",
            "Data columns (total 17 columns):\n",
            " #   Column                 Non-Null Count  Dtype  \n",
            "---  ------                 --------------  -----  \n",
            " 0   Comentario             2931 non-null   object \n",
            " 1   Fecha                  2931 non-null   object \n",
            " 2   Estrellas              2931 non-null   object \n",
            " 3   Nombre_Persona         2931 non-null   object \n",
            " 4   Numero_resenas         2762 non-null   object \n",
            " 5   Información Adicional  692 non-null    object \n",
            " 6   Nombre                 2931 non-null   object \n",
            " 7   Tipo Establecimiento   2931 non-null   object \n",
            " 8   Tipo                   2931 non-null   object \n",
            " 9   Dirección              2931 non-null   object \n",
            " 10  Latitud                2931 non-null   float64\n",
            " 11  Longitud               2931 non-null   float64\n",
            " 12  tipo_persona           1817 non-null   object \n",
            " 13  num_reseñas            0 non-null      float64\n",
            " 14  num_fotos              1866 non-null   float64\n",
            " 15  Calificación           2931 non-null   int64  \n",
            " 16  Fecha_numero           2931 non-null   object \n",
            "dtypes: float64(4), int64(1), object(12)\n",
            "memory usage: 389.4+ KB\n"
          ]
        }
      ]
    },
    {
      "cell_type": "code",
      "source": [
        "df_bares.shape"
      ],
      "metadata": {
        "colab": {
          "base_uri": "https://localhost:8080/"
        },
        "id": "WtQRJhiXv1kt",
        "outputId": "4ba4cdee-43ab-45de-cb48-30c19f828623"
      },
      "execution_count": null,
      "outputs": [
        {
          "output_type": "execute_result",
          "data": {
            "text/plain": [
              "(2931, 18)"
            ]
          },
          "metadata": {},
          "execution_count": 39
        }
      ]
    },
    {
      "cell_type": "code",
      "source": [
        "# Añadir columna \"Tipo\" para cada dataset\n",
        "df_hoteles['Tipo_Local'] = 'Hotel'\n",
        "df_restaurantes['Tipo_Local'] = 'Restaurante'\n",
        "df_bares['Tipo_Local'] = 'Bar'"
      ],
      "metadata": {
        "id": "nT1STYXJo9RJ"
      },
      "execution_count": null,
      "outputs": []
    },
    {
      "cell_type": "markdown",
      "source": [
        "Unificamos en una sola con las columnas mas relevantes"
      ],
      "metadata": {
        "id": "GF4rZzn_sKKq"
      }
    },
    {
      "cell_type": "code",
      "source": [
        "# Seleccionar columnas relevantes para cada dataset\n",
        "columnas_relevantes = ['Comentario', 'Fecha', 'Tipo_Local', 'Calificación']\n",
        "\n",
        "# Extraer columnas relevantes de cada dataset\n",
        "df_hoteles_reducido = df_hoteles[columnas_relevantes]\n",
        "df_restaurantes_reducido = df_restaurantes[columnas_relevantes]\n",
        "df_bares_reducido = df_bares[columnas_relevantes]\n",
        "\n",
        "# Unificar los datasets\n",
        "df_unificado = pd.concat([df_hoteles_reducido, df_restaurantes_reducido, df_bares_reducido], ignore_index=True)\n"
      ],
      "metadata": {
        "id": "bwk0y-BFpg05"
      },
      "execution_count": null,
      "outputs": []
    },
    {
      "cell_type": "code",
      "source": [
        "df_unificado.info()"
      ],
      "metadata": {
        "colab": {
          "base_uri": "https://localhost:8080/"
        },
        "id": "dnIMZ-amsRqj",
        "outputId": "711fe3b3-c4cb-437a-ac18-9cec5ab3b892"
      },
      "execution_count": null,
      "outputs": [
        {
          "output_type": "stream",
          "name": "stdout",
          "text": [
            "<class 'pandas.core.frame.DataFrame'>\n",
            "RangeIndex: 14860 entries, 0 to 14859\n",
            "Data columns (total 4 columns):\n",
            " #   Column        Non-Null Count  Dtype  \n",
            "---  ------        --------------  -----  \n",
            " 0   Comentario    14859 non-null  object \n",
            " 1   Fecha         14860 non-null  object \n",
            " 2   Tipo_Local    14860 non-null  object \n",
            " 3   Calificación  14856 non-null  float64\n",
            "dtypes: float64(1), object(3)\n",
            "memory usage: 464.5+ KB\n"
          ]
        }
      ]
    },
    {
      "cell_type": "markdown",
      "source": [
        "#Limpieza de data"
      ],
      "metadata": {
        "id": "n0Wfc6JBsno4"
      }
    },
    {
      "cell_type": "code",
      "source": [
        "# Verificar valores nulos\n",
        "print(\"Valores nulos por columna después de unificar:\")\n",
        "print(df_unificado.isnull().sum())"
      ],
      "metadata": {
        "colab": {
          "base_uri": "https://localhost:8080/"
        },
        "id": "SWx_L8_tsXf7",
        "outputId": "ac9c9d3e-7029-40b1-8c09-d2b7c3d38b8b"
      },
      "execution_count": null,
      "outputs": [
        {
          "output_type": "stream",
          "name": "stdout",
          "text": [
            "Valores nulos por columna después de unificar:\n",
            "Comentario      1\n",
            "Fecha           0\n",
            "Tipo_Local      0\n",
            "Calificación    4\n",
            "dtype: int64\n"
          ]
        }
      ]
    },
    {
      "cell_type": "code",
      "source": [
        "#Eliminar filas con valores nulos en las columnas importantes\n",
        "df_unificado = df_unificado.dropna(subset=columnas_relevantes)"
      ],
      "metadata": {
        "id": "8C-xl4aBshS5"
      },
      "execution_count": null,
      "outputs": []
    },
    {
      "cell_type": "code",
      "source": [
        "# Verificar valores nulos\n",
        "print(\"Valores nulos por columna después de unificar:\")\n",
        "print(df_unificado.isnull().sum())"
      ],
      "metadata": {
        "colab": {
          "base_uri": "https://localhost:8080/"
        },
        "id": "gjlLAmRMtcbU",
        "outputId": "09bcea93-b6a4-497b-b1ff-c9a6949a1e6c"
      },
      "execution_count": null,
      "outputs": [
        {
          "output_type": "stream",
          "name": "stdout",
          "text": [
            "Valores nulos por columna después de unificar:\n",
            "Comentario      0\n",
            "Fecha           0\n",
            "Tipo_Local      0\n",
            "Calificación    0\n",
            "dtype: int64\n"
          ]
        }
      ]
    },
    {
      "cell_type": "code",
      "source": [
        "# Información general del dataset unificado\n",
        "print(\"\\nInformación del dataset unificado:\")\n",
        "print(df_unificado.info())"
      ],
      "metadata": {
        "colab": {
          "base_uri": "https://localhost:8080/"
        },
        "id": "vnaRjd7wusno",
        "outputId": "d120b3c2-831d-41f0-ae3e-c93ab09af984"
      },
      "execution_count": null,
      "outputs": [
        {
          "output_type": "stream",
          "name": "stdout",
          "text": [
            "\n",
            "Información del dataset unificado:\n",
            "<class 'pandas.core.frame.DataFrame'>\n",
            "Index: 14855 entries, 0 to 14859\n",
            "Data columns (total 4 columns):\n",
            " #   Column        Non-Null Count  Dtype  \n",
            "---  ------        --------------  -----  \n",
            " 0   Comentario    14855 non-null  object \n",
            " 1   Fecha         14855 non-null  object \n",
            " 2   Tipo_Local    14855 non-null  object \n",
            " 3   Calificación  14855 non-null  float64\n",
            "dtypes: float64(1), object(3)\n",
            "memory usage: 580.3+ KB\n",
            "None\n"
          ]
        }
      ]
    },
    {
      "cell_type": "code",
      "source": [
        "df_unificado.shape"
      ],
      "metadata": {
        "colab": {
          "base_uri": "https://localhost:8080/"
        },
        "id": "P2dFP88vvY3Q",
        "outputId": "bc8b7e5d-2a1f-45e7-b930-609185d5427f"
      },
      "execution_count": null,
      "outputs": [
        {
          "output_type": "execute_result",
          "data": {
            "text/plain": [
              "(14855, 4)"
            ]
          },
          "metadata": {},
          "execution_count": 35
        }
      ]
    },
    {
      "cell_type": "code",
      "source": [
        "# Vista previa del dataset unificado\n",
        "print(\"\\nVista previa del dataset unificado:\")\n",
        "df_unificado"
      ],
      "metadata": {
        "colab": {
          "base_uri": "https://localhost:8080/",
          "height": 458
        },
        "id": "GYBRRio3uyn5",
        "outputId": "d64f6321-d3dd-4b64-f1f8-e5d6051fbb8c"
      },
      "execution_count": null,
      "outputs": [
        {
          "output_type": "stream",
          "name": "stdout",
          "text": [
            "\n",
            "Vista previa del dataset unificado:\n"
          ]
        },
        {
          "output_type": "execute_result",
          "data": {
            "text/plain": [
              "                                              Comentario  \\\n",
              "0      Todo muy bien, ambiente agradable y muy buen t...   \n",
              "1      Me hospedé en el hotel por motivos laborales y...   \n",
              "2      Pasamos el mejor fin de semana con el paquete ...   \n",
              "3      Un hotel maravilloso ubicado en Quito, el serv...   \n",
              "4      El hotel cuenta con una excelente ubicación! l...   \n",
              "...                                                  ...   \n",
              "14855                                   No comment found   \n",
              "14856                                   No comment found   \n",
              "14857                                   No comment found   \n",
              "14858                                   No comment found   \n",
              "14859                                   No comment found   \n",
              "\n",
              "                                 Fecha Tipo_Local  Calificación  \n",
              "0      una semana atrás en Tripadvisor      Hotel           1.0  \n",
              "1           Hace un mes en Tripadvisor      Hotel           1.0  \n",
              "2       3 semanas atrás en Tripadvisor      Hotel           1.0  \n",
              "3       3 semanas atrás en Tripadvisor      Hotel           1.0  \n",
              "4       2 semanas atrás en Tripadvisor      Hotel           1.0  \n",
              "...                                ...        ...           ...  \n",
              "14855                      Hace 6 años        Bar          -1.0  \n",
              "14856                      Hace 6 años        Bar          -1.0  \n",
              "14857                      Hace 6 años        Bar           0.0  \n",
              "14858                      Hace 6 años        Bar           1.0  \n",
              "14859                      Hace 6 años        Bar           0.0  \n",
              "\n",
              "[14855 rows x 4 columns]"
            ],
            "text/html": [
              "\n",
              "  <div id=\"df-c0abf374-b968-4878-a2cf-519ddba2de3d\" class=\"colab-df-container\">\n",
              "    <div>\n",
              "<style scoped>\n",
              "    .dataframe tbody tr th:only-of-type {\n",
              "        vertical-align: middle;\n",
              "    }\n",
              "\n",
              "    .dataframe tbody tr th {\n",
              "        vertical-align: top;\n",
              "    }\n",
              "\n",
              "    .dataframe thead th {\n",
              "        text-align: right;\n",
              "    }\n",
              "</style>\n",
              "<table border=\"1\" class=\"dataframe\">\n",
              "  <thead>\n",
              "    <tr style=\"text-align: right;\">\n",
              "      <th></th>\n",
              "      <th>Comentario</th>\n",
              "      <th>Fecha</th>\n",
              "      <th>Tipo_Local</th>\n",
              "      <th>Calificación</th>\n",
              "    </tr>\n",
              "  </thead>\n",
              "  <tbody>\n",
              "    <tr>\n",
              "      <th>0</th>\n",
              "      <td>Todo muy bien, ambiente agradable y muy buen t...</td>\n",
              "      <td>una semana atrás en Tripadvisor</td>\n",
              "      <td>Hotel</td>\n",
              "      <td>1.0</td>\n",
              "    </tr>\n",
              "    <tr>\n",
              "      <th>1</th>\n",
              "      <td>Me hospedé en el hotel por motivos laborales y...</td>\n",
              "      <td>Hace un mes en Tripadvisor</td>\n",
              "      <td>Hotel</td>\n",
              "      <td>1.0</td>\n",
              "    </tr>\n",
              "    <tr>\n",
              "      <th>2</th>\n",
              "      <td>Pasamos el mejor fin de semana con el paquete ...</td>\n",
              "      <td>3 semanas atrás en Tripadvisor</td>\n",
              "      <td>Hotel</td>\n",
              "      <td>1.0</td>\n",
              "    </tr>\n",
              "    <tr>\n",
              "      <th>3</th>\n",
              "      <td>Un hotel maravilloso ubicado en Quito, el serv...</td>\n",
              "      <td>3 semanas atrás en Tripadvisor</td>\n",
              "      <td>Hotel</td>\n",
              "      <td>1.0</td>\n",
              "    </tr>\n",
              "    <tr>\n",
              "      <th>4</th>\n",
              "      <td>El hotel cuenta con una excelente ubicación! l...</td>\n",
              "      <td>2 semanas atrás en Tripadvisor</td>\n",
              "      <td>Hotel</td>\n",
              "      <td>1.0</td>\n",
              "    </tr>\n",
              "    <tr>\n",
              "      <th>...</th>\n",
              "      <td>...</td>\n",
              "      <td>...</td>\n",
              "      <td>...</td>\n",
              "      <td>...</td>\n",
              "    </tr>\n",
              "    <tr>\n",
              "      <th>14855</th>\n",
              "      <td>No comment found</td>\n",
              "      <td>Hace 6 años</td>\n",
              "      <td>Bar</td>\n",
              "      <td>-1.0</td>\n",
              "    </tr>\n",
              "    <tr>\n",
              "      <th>14856</th>\n",
              "      <td>No comment found</td>\n",
              "      <td>Hace 6 años</td>\n",
              "      <td>Bar</td>\n",
              "      <td>-1.0</td>\n",
              "    </tr>\n",
              "    <tr>\n",
              "      <th>14857</th>\n",
              "      <td>No comment found</td>\n",
              "      <td>Hace 6 años</td>\n",
              "      <td>Bar</td>\n",
              "      <td>0.0</td>\n",
              "    </tr>\n",
              "    <tr>\n",
              "      <th>14858</th>\n",
              "      <td>No comment found</td>\n",
              "      <td>Hace 6 años</td>\n",
              "      <td>Bar</td>\n",
              "      <td>1.0</td>\n",
              "    </tr>\n",
              "    <tr>\n",
              "      <th>14859</th>\n",
              "      <td>No comment found</td>\n",
              "      <td>Hace 6 años</td>\n",
              "      <td>Bar</td>\n",
              "      <td>0.0</td>\n",
              "    </tr>\n",
              "  </tbody>\n",
              "</table>\n",
              "<p>14855 rows × 4 columns</p>\n",
              "</div>\n",
              "    <div class=\"colab-df-buttons\">\n",
              "\n",
              "  <div class=\"colab-df-container\">\n",
              "    <button class=\"colab-df-convert\" onclick=\"convertToInteractive('df-c0abf374-b968-4878-a2cf-519ddba2de3d')\"\n",
              "            title=\"Convert this dataframe to an interactive table.\"\n",
              "            style=\"display:none;\">\n",
              "\n",
              "  <svg xmlns=\"http://www.w3.org/2000/svg\" height=\"24px\" viewBox=\"0 -960 960 960\">\n",
              "    <path d=\"M120-120v-720h720v720H120Zm60-500h600v-160H180v160Zm220 220h160v-160H400v160Zm0 220h160v-160H400v160ZM180-400h160v-160H180v160Zm440 0h160v-160H620v160ZM180-180h160v-160H180v160Zm440 0h160v-160H620v160Z\"/>\n",
              "  </svg>\n",
              "    </button>\n",
              "\n",
              "  <style>\n",
              "    .colab-df-container {\n",
              "      display:flex;\n",
              "      gap: 12px;\n",
              "    }\n",
              "\n",
              "    .colab-df-convert {\n",
              "      background-color: #E8F0FE;\n",
              "      border: none;\n",
              "      border-radius: 50%;\n",
              "      cursor: pointer;\n",
              "      display: none;\n",
              "      fill: #1967D2;\n",
              "      height: 32px;\n",
              "      padding: 0 0 0 0;\n",
              "      width: 32px;\n",
              "    }\n",
              "\n",
              "    .colab-df-convert:hover {\n",
              "      background-color: #E2EBFA;\n",
              "      box-shadow: 0px 1px 2px rgba(60, 64, 67, 0.3), 0px 1px 3px 1px rgba(60, 64, 67, 0.15);\n",
              "      fill: #174EA6;\n",
              "    }\n",
              "\n",
              "    .colab-df-buttons div {\n",
              "      margin-bottom: 4px;\n",
              "    }\n",
              "\n",
              "    [theme=dark] .colab-df-convert {\n",
              "      background-color: #3B4455;\n",
              "      fill: #D2E3FC;\n",
              "    }\n",
              "\n",
              "    [theme=dark] .colab-df-convert:hover {\n",
              "      background-color: #434B5C;\n",
              "      box-shadow: 0px 1px 3px 1px rgba(0, 0, 0, 0.15);\n",
              "      filter: drop-shadow(0px 1px 2px rgba(0, 0, 0, 0.3));\n",
              "      fill: #FFFFFF;\n",
              "    }\n",
              "  </style>\n",
              "\n",
              "    <script>\n",
              "      const buttonEl =\n",
              "        document.querySelector('#df-c0abf374-b968-4878-a2cf-519ddba2de3d button.colab-df-convert');\n",
              "      buttonEl.style.display =\n",
              "        google.colab.kernel.accessAllowed ? 'block' : 'none';\n",
              "\n",
              "      async function convertToInteractive(key) {\n",
              "        const element = document.querySelector('#df-c0abf374-b968-4878-a2cf-519ddba2de3d');\n",
              "        const dataTable =\n",
              "          await google.colab.kernel.invokeFunction('convertToInteractive',\n",
              "                                                    [key], {});\n",
              "        if (!dataTable) return;\n",
              "\n",
              "        const docLinkHtml = 'Like what you see? Visit the ' +\n",
              "          '<a target=\"_blank\" href=https://colab.research.google.com/notebooks/data_table.ipynb>data table notebook</a>'\n",
              "          + ' to learn more about interactive tables.';\n",
              "        element.innerHTML = '';\n",
              "        dataTable['output_type'] = 'display_data';\n",
              "        await google.colab.output.renderOutput(dataTable, element);\n",
              "        const docLink = document.createElement('div');\n",
              "        docLink.innerHTML = docLinkHtml;\n",
              "        element.appendChild(docLink);\n",
              "      }\n",
              "    </script>\n",
              "  </div>\n",
              "\n",
              "\n",
              "<div id=\"df-e5b798fc-d628-4b92-9194-c340f9a277fd\">\n",
              "  <button class=\"colab-df-quickchart\" onclick=\"quickchart('df-e5b798fc-d628-4b92-9194-c340f9a277fd')\"\n",
              "            title=\"Suggest charts\"\n",
              "            style=\"display:none;\">\n",
              "\n",
              "<svg xmlns=\"http://www.w3.org/2000/svg\" height=\"24px\"viewBox=\"0 0 24 24\"\n",
              "     width=\"24px\">\n",
              "    <g>\n",
              "        <path d=\"M19 3H5c-1.1 0-2 .9-2 2v14c0 1.1.9 2 2 2h14c1.1 0 2-.9 2-2V5c0-1.1-.9-2-2-2zM9 17H7v-7h2v7zm4 0h-2V7h2v10zm4 0h-2v-4h2v4z\"/>\n",
              "    </g>\n",
              "</svg>\n",
              "  </button>\n",
              "\n",
              "<style>\n",
              "  .colab-df-quickchart {\n",
              "      --bg-color: #E8F0FE;\n",
              "      --fill-color: #1967D2;\n",
              "      --hover-bg-color: #E2EBFA;\n",
              "      --hover-fill-color: #174EA6;\n",
              "      --disabled-fill-color: #AAA;\n",
              "      --disabled-bg-color: #DDD;\n",
              "  }\n",
              "\n",
              "  [theme=dark] .colab-df-quickchart {\n",
              "      --bg-color: #3B4455;\n",
              "      --fill-color: #D2E3FC;\n",
              "      --hover-bg-color: #434B5C;\n",
              "      --hover-fill-color: #FFFFFF;\n",
              "      --disabled-bg-color: #3B4455;\n",
              "      --disabled-fill-color: #666;\n",
              "  }\n",
              "\n",
              "  .colab-df-quickchart {\n",
              "    background-color: var(--bg-color);\n",
              "    border: none;\n",
              "    border-radius: 50%;\n",
              "    cursor: pointer;\n",
              "    display: none;\n",
              "    fill: var(--fill-color);\n",
              "    height: 32px;\n",
              "    padding: 0;\n",
              "    width: 32px;\n",
              "  }\n",
              "\n",
              "  .colab-df-quickchart:hover {\n",
              "    background-color: var(--hover-bg-color);\n",
              "    box-shadow: 0 1px 2px rgba(60, 64, 67, 0.3), 0 1px 3px 1px rgba(60, 64, 67, 0.15);\n",
              "    fill: var(--button-hover-fill-color);\n",
              "  }\n",
              "\n",
              "  .colab-df-quickchart-complete:disabled,\n",
              "  .colab-df-quickchart-complete:disabled:hover {\n",
              "    background-color: var(--disabled-bg-color);\n",
              "    fill: var(--disabled-fill-color);\n",
              "    box-shadow: none;\n",
              "  }\n",
              "\n",
              "  .colab-df-spinner {\n",
              "    border: 2px solid var(--fill-color);\n",
              "    border-color: transparent;\n",
              "    border-bottom-color: var(--fill-color);\n",
              "    animation:\n",
              "      spin 1s steps(1) infinite;\n",
              "  }\n",
              "\n",
              "  @keyframes spin {\n",
              "    0% {\n",
              "      border-color: transparent;\n",
              "      border-bottom-color: var(--fill-color);\n",
              "      border-left-color: var(--fill-color);\n",
              "    }\n",
              "    20% {\n",
              "      border-color: transparent;\n",
              "      border-left-color: var(--fill-color);\n",
              "      border-top-color: var(--fill-color);\n",
              "    }\n",
              "    30% {\n",
              "      border-color: transparent;\n",
              "      border-left-color: var(--fill-color);\n",
              "      border-top-color: var(--fill-color);\n",
              "      border-right-color: var(--fill-color);\n",
              "    }\n",
              "    40% {\n",
              "      border-color: transparent;\n",
              "      border-right-color: var(--fill-color);\n",
              "      border-top-color: var(--fill-color);\n",
              "    }\n",
              "    60% {\n",
              "      border-color: transparent;\n",
              "      border-right-color: var(--fill-color);\n",
              "    }\n",
              "    80% {\n",
              "      border-color: transparent;\n",
              "      border-right-color: var(--fill-color);\n",
              "      border-bottom-color: var(--fill-color);\n",
              "    }\n",
              "    90% {\n",
              "      border-color: transparent;\n",
              "      border-bottom-color: var(--fill-color);\n",
              "    }\n",
              "  }\n",
              "</style>\n",
              "\n",
              "  <script>\n",
              "    async function quickchart(key) {\n",
              "      const quickchartButtonEl =\n",
              "        document.querySelector('#' + key + ' button');\n",
              "      quickchartButtonEl.disabled = true;  // To prevent multiple clicks.\n",
              "      quickchartButtonEl.classList.add('colab-df-spinner');\n",
              "      try {\n",
              "        const charts = await google.colab.kernel.invokeFunction(\n",
              "            'suggestCharts', [key], {});\n",
              "      } catch (error) {\n",
              "        console.error('Error during call to suggestCharts:', error);\n",
              "      }\n",
              "      quickchartButtonEl.classList.remove('colab-df-spinner');\n",
              "      quickchartButtonEl.classList.add('colab-df-quickchart-complete');\n",
              "    }\n",
              "    (() => {\n",
              "      let quickchartButtonEl =\n",
              "        document.querySelector('#df-e5b798fc-d628-4b92-9194-c340f9a277fd button');\n",
              "      quickchartButtonEl.style.display =\n",
              "        google.colab.kernel.accessAllowed ? 'block' : 'none';\n",
              "    })();\n",
              "  </script>\n",
              "</div>\n",
              "\n",
              "  <div id=\"id_0efa5fec-75b4-4ba5-8dc7-21194e2d9201\">\n",
              "    <style>\n",
              "      .colab-df-generate {\n",
              "        background-color: #E8F0FE;\n",
              "        border: none;\n",
              "        border-radius: 50%;\n",
              "        cursor: pointer;\n",
              "        display: none;\n",
              "        fill: #1967D2;\n",
              "        height: 32px;\n",
              "        padding: 0 0 0 0;\n",
              "        width: 32px;\n",
              "      }\n",
              "\n",
              "      .colab-df-generate:hover {\n",
              "        background-color: #E2EBFA;\n",
              "        box-shadow: 0px 1px 2px rgba(60, 64, 67, 0.3), 0px 1px 3px 1px rgba(60, 64, 67, 0.15);\n",
              "        fill: #174EA6;\n",
              "      }\n",
              "\n",
              "      [theme=dark] .colab-df-generate {\n",
              "        background-color: #3B4455;\n",
              "        fill: #D2E3FC;\n",
              "      }\n",
              "\n",
              "      [theme=dark] .colab-df-generate:hover {\n",
              "        background-color: #434B5C;\n",
              "        box-shadow: 0px 1px 3px 1px rgba(0, 0, 0, 0.15);\n",
              "        filter: drop-shadow(0px 1px 2px rgba(0, 0, 0, 0.3));\n",
              "        fill: #FFFFFF;\n",
              "      }\n",
              "    </style>\n",
              "    <button class=\"colab-df-generate\" onclick=\"generateWithVariable('df_unificado')\"\n",
              "            title=\"Generate code using this dataframe.\"\n",
              "            style=\"display:none;\">\n",
              "\n",
              "  <svg xmlns=\"http://www.w3.org/2000/svg\" height=\"24px\"viewBox=\"0 0 24 24\"\n",
              "       width=\"24px\">\n",
              "    <path d=\"M7,19H8.4L18.45,9,17,7.55,7,17.6ZM5,21V16.75L18.45,3.32a2,2,0,0,1,2.83,0l1.4,1.43a1.91,1.91,0,0,1,.58,1.4,1.91,1.91,0,0,1-.58,1.4L9.25,21ZM18.45,9,17,7.55Zm-12,3A5.31,5.31,0,0,0,4.9,8.1,5.31,5.31,0,0,0,1,6.5,5.31,5.31,0,0,0,4.9,4.9,5.31,5.31,0,0,0,6.5,1,5.31,5.31,0,0,0,8.1,4.9,5.31,5.31,0,0,0,12,6.5,5.46,5.46,0,0,0,6.5,12Z\"/>\n",
              "  </svg>\n",
              "    </button>\n",
              "    <script>\n",
              "      (() => {\n",
              "      const buttonEl =\n",
              "        document.querySelector('#id_0efa5fec-75b4-4ba5-8dc7-21194e2d9201 button.colab-df-generate');\n",
              "      buttonEl.style.display =\n",
              "        google.colab.kernel.accessAllowed ? 'block' : 'none';\n",
              "\n",
              "      buttonEl.onclick = () => {\n",
              "        google.colab.notebook.generateWithVariable('df_unificado');\n",
              "      }\n",
              "      })();\n",
              "    </script>\n",
              "  </div>\n",
              "\n",
              "    </div>\n",
              "  </div>\n"
            ],
            "application/vnd.google.colaboratory.intrinsic+json": {
              "type": "dataframe",
              "variable_name": "df_unificado",
              "summary": "{\n  \"name\": \"df_unificado\",\n  \"rows\": 14855,\n  \"fields\": [\n    {\n      \"column\": \"Comentario\",\n      \"properties\": {\n        \"dtype\": \"string\",\n        \"num_unique_values\": 8454,\n        \"samples\": [\n          \"Hotel muy glamoroso y lujoso. La piscina es incre\\u00edblemente hermosa, el personal es perfectamente amable y servicial. Lo recomendar\\u00eda 10/10\",\n          \"La comida es incre\\u00edble!!! \\u00a1El restaurante italiano m\\u00e1s aut\\u00e9ntico en el que he estado! Definitivamente una joya escondida en Quito.  Puedes saborear la frescura y autenticidad de la comida en cada bocado.  El servicio fue un poco lento (probablemente simplemente estropeado por el excelente servicio en Quito) Los aperitivos (calamares y bruscetta) \\u00a1INCRE\\u00cdBLES! La lasa\\u00f1a y sus pizzas de primera.  \\u00a1\\u00a1Altamente recomendado!!\",\n          \"Muy buen lugar para llegar a Quito y estar cerca del centro hist\\u00f3rico y la zona comercial ...\"\n        ],\n        \"semantic_type\": \"\",\n        \"description\": \"\"\n      }\n    },\n    {\n      \"column\": \"Fecha\",\n      \"properties\": {\n        \"dtype\": \"category\",\n        \"num_unique_values\": 113,\n        \"samples\": [\n          \"Hace 11 meses\",\n          \"Hace un mes en all.accor.com\",\n          \"Hace 5 meses en Tripadvisor\"\n        ],\n        \"semantic_type\": \"\",\n        \"description\": \"\"\n      }\n    },\n    {\n      \"column\": \"Tipo_Local\",\n      \"properties\": {\n        \"dtype\": \"category\",\n        \"num_unique_values\": 3,\n        \"samples\": [\n          \"Hotel\",\n          \"Restaurante\",\n          \"Bar\"\n        ],\n        \"semantic_type\": \"\",\n        \"description\": \"\"\n      }\n    },\n    {\n      \"column\": \"Calificaci\\u00f3n\",\n      \"properties\": {\n        \"dtype\": \"number\",\n        \"std\": 0.6109527204909196,\n        \"min\": -1.0,\n        \"max\": 1.0,\n        \"num_unique_values\": 3,\n        \"samples\": [\n          1.0,\n          -1.0,\n          0.0\n        ],\n        \"semantic_type\": \"\",\n        \"description\": \"\"\n      }\n    }\n  ]\n}"
            }
          },
          "metadata": {},
          "execution_count": 34
        }
      ]
    },
    {
      "cell_type": "code",
      "source": [
        "# Eliminamos los comentarios que tengan No comment found dado que no exista comentarios\n",
        "df_unificado = df_unificado[df_unificado[\"Comentario\"] != \"No comment found\"]\n",
        "\n",
        "df_unificado\n"
      ],
      "metadata": {
        "colab": {
          "base_uri": "https://localhost:8080/",
          "height": 424
        },
        "id": "UfeLQ64Su-7_",
        "outputId": "f723965a-9228-49b8-f170-1365a7a4c2ce"
      },
      "execution_count": null,
      "outputs": [
        {
          "output_type": "execute_result",
          "data": {
            "text/plain": [
              "                                              Comentario  \\\n",
              "0      Todo muy bien, ambiente agradable y muy buen t...   \n",
              "1      Me hospedé en el hotel por motivos laborales y...   \n",
              "2      Pasamos el mejor fin de semana con el paquete ...   \n",
              "3      Un hotel maravilloso ubicado en Quito, el serv...   \n",
              "4      El hotel cuenta con una excelente ubicación! l...   \n",
              "...                                                  ...   \n",
              "14767  Bar de cerveza. Buen sistema de música y ambie...   \n",
              "14768                    Bonito lugar para pasar el rato   \n",
              "14769                                               Guau   \n",
              "14770                                    Blanco completo   \n",
              "14771                                     Barato y bueno   \n",
              "\n",
              "                                 Fecha Tipo_Local  Calificación  \n",
              "0      una semana atrás en Tripadvisor      Hotel           1.0  \n",
              "1           Hace un mes en Tripadvisor      Hotel           1.0  \n",
              "2       3 semanas atrás en Tripadvisor      Hotel           1.0  \n",
              "3       3 semanas atrás en Tripadvisor      Hotel           1.0  \n",
              "4       2 semanas atrás en Tripadvisor      Hotel           1.0  \n",
              "...                                ...        ...           ...  \n",
              "14767                      Hace 7 años        Bar           1.0  \n",
              "14768                      Hace 6 años        Bar           0.0  \n",
              "14769                      Hace 5 años        Bar           1.0  \n",
              "14770                      Hace 4 años        Bar           1.0  \n",
              "14771                      Hace 5 años        Bar           1.0  \n",
              "\n",
              "[10385 rows x 4 columns]"
            ],
            "text/html": [
              "\n",
              "  <div id=\"df-752bb573-e937-4222-8ea0-8e05def2b8b9\" class=\"colab-df-container\">\n",
              "    <div>\n",
              "<style scoped>\n",
              "    .dataframe tbody tr th:only-of-type {\n",
              "        vertical-align: middle;\n",
              "    }\n",
              "\n",
              "    .dataframe tbody tr th {\n",
              "        vertical-align: top;\n",
              "    }\n",
              "\n",
              "    .dataframe thead th {\n",
              "        text-align: right;\n",
              "    }\n",
              "</style>\n",
              "<table border=\"1\" class=\"dataframe\">\n",
              "  <thead>\n",
              "    <tr style=\"text-align: right;\">\n",
              "      <th></th>\n",
              "      <th>Comentario</th>\n",
              "      <th>Fecha</th>\n",
              "      <th>Tipo_Local</th>\n",
              "      <th>Calificación</th>\n",
              "    </tr>\n",
              "  </thead>\n",
              "  <tbody>\n",
              "    <tr>\n",
              "      <th>0</th>\n",
              "      <td>Todo muy bien, ambiente agradable y muy buen t...</td>\n",
              "      <td>una semana atrás en Tripadvisor</td>\n",
              "      <td>Hotel</td>\n",
              "      <td>1.0</td>\n",
              "    </tr>\n",
              "    <tr>\n",
              "      <th>1</th>\n",
              "      <td>Me hospedé en el hotel por motivos laborales y...</td>\n",
              "      <td>Hace un mes en Tripadvisor</td>\n",
              "      <td>Hotel</td>\n",
              "      <td>1.0</td>\n",
              "    </tr>\n",
              "    <tr>\n",
              "      <th>2</th>\n",
              "      <td>Pasamos el mejor fin de semana con el paquete ...</td>\n",
              "      <td>3 semanas atrás en Tripadvisor</td>\n",
              "      <td>Hotel</td>\n",
              "      <td>1.0</td>\n",
              "    </tr>\n",
              "    <tr>\n",
              "      <th>3</th>\n",
              "      <td>Un hotel maravilloso ubicado en Quito, el serv...</td>\n",
              "      <td>3 semanas atrás en Tripadvisor</td>\n",
              "      <td>Hotel</td>\n",
              "      <td>1.0</td>\n",
              "    </tr>\n",
              "    <tr>\n",
              "      <th>4</th>\n",
              "      <td>El hotel cuenta con una excelente ubicación! l...</td>\n",
              "      <td>2 semanas atrás en Tripadvisor</td>\n",
              "      <td>Hotel</td>\n",
              "      <td>1.0</td>\n",
              "    </tr>\n",
              "    <tr>\n",
              "      <th>...</th>\n",
              "      <td>...</td>\n",
              "      <td>...</td>\n",
              "      <td>...</td>\n",
              "      <td>...</td>\n",
              "    </tr>\n",
              "    <tr>\n",
              "      <th>14767</th>\n",
              "      <td>Bar de cerveza. Buen sistema de música y ambie...</td>\n",
              "      <td>Hace 7 años</td>\n",
              "      <td>Bar</td>\n",
              "      <td>1.0</td>\n",
              "    </tr>\n",
              "    <tr>\n",
              "      <th>14768</th>\n",
              "      <td>Bonito lugar para pasar el rato</td>\n",
              "      <td>Hace 6 años</td>\n",
              "      <td>Bar</td>\n",
              "      <td>0.0</td>\n",
              "    </tr>\n",
              "    <tr>\n",
              "      <th>14769</th>\n",
              "      <td>Guau</td>\n",
              "      <td>Hace 5 años</td>\n",
              "      <td>Bar</td>\n",
              "      <td>1.0</td>\n",
              "    </tr>\n",
              "    <tr>\n",
              "      <th>14770</th>\n",
              "      <td>Blanco completo</td>\n",
              "      <td>Hace 4 años</td>\n",
              "      <td>Bar</td>\n",
              "      <td>1.0</td>\n",
              "    </tr>\n",
              "    <tr>\n",
              "      <th>14771</th>\n",
              "      <td>Barato y bueno</td>\n",
              "      <td>Hace 5 años</td>\n",
              "      <td>Bar</td>\n",
              "      <td>1.0</td>\n",
              "    </tr>\n",
              "  </tbody>\n",
              "</table>\n",
              "<p>10385 rows × 4 columns</p>\n",
              "</div>\n",
              "    <div class=\"colab-df-buttons\">\n",
              "\n",
              "  <div class=\"colab-df-container\">\n",
              "    <button class=\"colab-df-convert\" onclick=\"convertToInteractive('df-752bb573-e937-4222-8ea0-8e05def2b8b9')\"\n",
              "            title=\"Convert this dataframe to an interactive table.\"\n",
              "            style=\"display:none;\">\n",
              "\n",
              "  <svg xmlns=\"http://www.w3.org/2000/svg\" height=\"24px\" viewBox=\"0 -960 960 960\">\n",
              "    <path d=\"M120-120v-720h720v720H120Zm60-500h600v-160H180v160Zm220 220h160v-160H400v160Zm0 220h160v-160H400v160ZM180-400h160v-160H180v160Zm440 0h160v-160H620v160ZM180-180h160v-160H180v160Zm440 0h160v-160H620v160Z\"/>\n",
              "  </svg>\n",
              "    </button>\n",
              "\n",
              "  <style>\n",
              "    .colab-df-container {\n",
              "      display:flex;\n",
              "      gap: 12px;\n",
              "    }\n",
              "\n",
              "    .colab-df-convert {\n",
              "      background-color: #E8F0FE;\n",
              "      border: none;\n",
              "      border-radius: 50%;\n",
              "      cursor: pointer;\n",
              "      display: none;\n",
              "      fill: #1967D2;\n",
              "      height: 32px;\n",
              "      padding: 0 0 0 0;\n",
              "      width: 32px;\n",
              "    }\n",
              "\n",
              "    .colab-df-convert:hover {\n",
              "      background-color: #E2EBFA;\n",
              "      box-shadow: 0px 1px 2px rgba(60, 64, 67, 0.3), 0px 1px 3px 1px rgba(60, 64, 67, 0.15);\n",
              "      fill: #174EA6;\n",
              "    }\n",
              "\n",
              "    .colab-df-buttons div {\n",
              "      margin-bottom: 4px;\n",
              "    }\n",
              "\n",
              "    [theme=dark] .colab-df-convert {\n",
              "      background-color: #3B4455;\n",
              "      fill: #D2E3FC;\n",
              "    }\n",
              "\n",
              "    [theme=dark] .colab-df-convert:hover {\n",
              "      background-color: #434B5C;\n",
              "      box-shadow: 0px 1px 3px 1px rgba(0, 0, 0, 0.15);\n",
              "      filter: drop-shadow(0px 1px 2px rgba(0, 0, 0, 0.3));\n",
              "      fill: #FFFFFF;\n",
              "    }\n",
              "  </style>\n",
              "\n",
              "    <script>\n",
              "      const buttonEl =\n",
              "        document.querySelector('#df-752bb573-e937-4222-8ea0-8e05def2b8b9 button.colab-df-convert');\n",
              "      buttonEl.style.display =\n",
              "        google.colab.kernel.accessAllowed ? 'block' : 'none';\n",
              "\n",
              "      async function convertToInteractive(key) {\n",
              "        const element = document.querySelector('#df-752bb573-e937-4222-8ea0-8e05def2b8b9');\n",
              "        const dataTable =\n",
              "          await google.colab.kernel.invokeFunction('convertToInteractive',\n",
              "                                                    [key], {});\n",
              "        if (!dataTable) return;\n",
              "\n",
              "        const docLinkHtml = 'Like what you see? Visit the ' +\n",
              "          '<a target=\"_blank\" href=https://colab.research.google.com/notebooks/data_table.ipynb>data table notebook</a>'\n",
              "          + ' to learn more about interactive tables.';\n",
              "        element.innerHTML = '';\n",
              "        dataTable['output_type'] = 'display_data';\n",
              "        await google.colab.output.renderOutput(dataTable, element);\n",
              "        const docLink = document.createElement('div');\n",
              "        docLink.innerHTML = docLinkHtml;\n",
              "        element.appendChild(docLink);\n",
              "      }\n",
              "    </script>\n",
              "  </div>\n",
              "\n",
              "\n",
              "<div id=\"df-1ee971c4-35b0-444c-84e6-6ac45d329f81\">\n",
              "  <button class=\"colab-df-quickchart\" onclick=\"quickchart('df-1ee971c4-35b0-444c-84e6-6ac45d329f81')\"\n",
              "            title=\"Suggest charts\"\n",
              "            style=\"display:none;\">\n",
              "\n",
              "<svg xmlns=\"http://www.w3.org/2000/svg\" height=\"24px\"viewBox=\"0 0 24 24\"\n",
              "     width=\"24px\">\n",
              "    <g>\n",
              "        <path d=\"M19 3H5c-1.1 0-2 .9-2 2v14c0 1.1.9 2 2 2h14c1.1 0 2-.9 2-2V5c0-1.1-.9-2-2-2zM9 17H7v-7h2v7zm4 0h-2V7h2v10zm4 0h-2v-4h2v4z\"/>\n",
              "    </g>\n",
              "</svg>\n",
              "  </button>\n",
              "\n",
              "<style>\n",
              "  .colab-df-quickchart {\n",
              "      --bg-color: #E8F0FE;\n",
              "      --fill-color: #1967D2;\n",
              "      --hover-bg-color: #E2EBFA;\n",
              "      --hover-fill-color: #174EA6;\n",
              "      --disabled-fill-color: #AAA;\n",
              "      --disabled-bg-color: #DDD;\n",
              "  }\n",
              "\n",
              "  [theme=dark] .colab-df-quickchart {\n",
              "      --bg-color: #3B4455;\n",
              "      --fill-color: #D2E3FC;\n",
              "      --hover-bg-color: #434B5C;\n",
              "      --hover-fill-color: #FFFFFF;\n",
              "      --disabled-bg-color: #3B4455;\n",
              "      --disabled-fill-color: #666;\n",
              "  }\n",
              "\n",
              "  .colab-df-quickchart {\n",
              "    background-color: var(--bg-color);\n",
              "    border: none;\n",
              "    border-radius: 50%;\n",
              "    cursor: pointer;\n",
              "    display: none;\n",
              "    fill: var(--fill-color);\n",
              "    height: 32px;\n",
              "    padding: 0;\n",
              "    width: 32px;\n",
              "  }\n",
              "\n",
              "  .colab-df-quickchart:hover {\n",
              "    background-color: var(--hover-bg-color);\n",
              "    box-shadow: 0 1px 2px rgba(60, 64, 67, 0.3), 0 1px 3px 1px rgba(60, 64, 67, 0.15);\n",
              "    fill: var(--button-hover-fill-color);\n",
              "  }\n",
              "\n",
              "  .colab-df-quickchart-complete:disabled,\n",
              "  .colab-df-quickchart-complete:disabled:hover {\n",
              "    background-color: var(--disabled-bg-color);\n",
              "    fill: var(--disabled-fill-color);\n",
              "    box-shadow: none;\n",
              "  }\n",
              "\n",
              "  .colab-df-spinner {\n",
              "    border: 2px solid var(--fill-color);\n",
              "    border-color: transparent;\n",
              "    border-bottom-color: var(--fill-color);\n",
              "    animation:\n",
              "      spin 1s steps(1) infinite;\n",
              "  }\n",
              "\n",
              "  @keyframes spin {\n",
              "    0% {\n",
              "      border-color: transparent;\n",
              "      border-bottom-color: var(--fill-color);\n",
              "      border-left-color: var(--fill-color);\n",
              "    }\n",
              "    20% {\n",
              "      border-color: transparent;\n",
              "      border-left-color: var(--fill-color);\n",
              "      border-top-color: var(--fill-color);\n",
              "    }\n",
              "    30% {\n",
              "      border-color: transparent;\n",
              "      border-left-color: var(--fill-color);\n",
              "      border-top-color: var(--fill-color);\n",
              "      border-right-color: var(--fill-color);\n",
              "    }\n",
              "    40% {\n",
              "      border-color: transparent;\n",
              "      border-right-color: var(--fill-color);\n",
              "      border-top-color: var(--fill-color);\n",
              "    }\n",
              "    60% {\n",
              "      border-color: transparent;\n",
              "      border-right-color: var(--fill-color);\n",
              "    }\n",
              "    80% {\n",
              "      border-color: transparent;\n",
              "      border-right-color: var(--fill-color);\n",
              "      border-bottom-color: var(--fill-color);\n",
              "    }\n",
              "    90% {\n",
              "      border-color: transparent;\n",
              "      border-bottom-color: var(--fill-color);\n",
              "    }\n",
              "  }\n",
              "</style>\n",
              "\n",
              "  <script>\n",
              "    async function quickchart(key) {\n",
              "      const quickchartButtonEl =\n",
              "        document.querySelector('#' + key + ' button');\n",
              "      quickchartButtonEl.disabled = true;  // To prevent multiple clicks.\n",
              "      quickchartButtonEl.classList.add('colab-df-spinner');\n",
              "      try {\n",
              "        const charts = await google.colab.kernel.invokeFunction(\n",
              "            'suggestCharts', [key], {});\n",
              "      } catch (error) {\n",
              "        console.error('Error during call to suggestCharts:', error);\n",
              "      }\n",
              "      quickchartButtonEl.classList.remove('colab-df-spinner');\n",
              "      quickchartButtonEl.classList.add('colab-df-quickchart-complete');\n",
              "    }\n",
              "    (() => {\n",
              "      let quickchartButtonEl =\n",
              "        document.querySelector('#df-1ee971c4-35b0-444c-84e6-6ac45d329f81 button');\n",
              "      quickchartButtonEl.style.display =\n",
              "        google.colab.kernel.accessAllowed ? 'block' : 'none';\n",
              "    })();\n",
              "  </script>\n",
              "</div>\n",
              "\n",
              "  <div id=\"id_76d9f41a-2b87-4638-905f-220c84840868\">\n",
              "    <style>\n",
              "      .colab-df-generate {\n",
              "        background-color: #E8F0FE;\n",
              "        border: none;\n",
              "        border-radius: 50%;\n",
              "        cursor: pointer;\n",
              "        display: none;\n",
              "        fill: #1967D2;\n",
              "        height: 32px;\n",
              "        padding: 0 0 0 0;\n",
              "        width: 32px;\n",
              "      }\n",
              "\n",
              "      .colab-df-generate:hover {\n",
              "        background-color: #E2EBFA;\n",
              "        box-shadow: 0px 1px 2px rgba(60, 64, 67, 0.3), 0px 1px 3px 1px rgba(60, 64, 67, 0.15);\n",
              "        fill: #174EA6;\n",
              "      }\n",
              "\n",
              "      [theme=dark] .colab-df-generate {\n",
              "        background-color: #3B4455;\n",
              "        fill: #D2E3FC;\n",
              "      }\n",
              "\n",
              "      [theme=dark] .colab-df-generate:hover {\n",
              "        background-color: #434B5C;\n",
              "        box-shadow: 0px 1px 3px 1px rgba(0, 0, 0, 0.15);\n",
              "        filter: drop-shadow(0px 1px 2px rgba(0, 0, 0, 0.3));\n",
              "        fill: #FFFFFF;\n",
              "      }\n",
              "    </style>\n",
              "    <button class=\"colab-df-generate\" onclick=\"generateWithVariable('df_unificado')\"\n",
              "            title=\"Generate code using this dataframe.\"\n",
              "            style=\"display:none;\">\n",
              "\n",
              "  <svg xmlns=\"http://www.w3.org/2000/svg\" height=\"24px\"viewBox=\"0 0 24 24\"\n",
              "       width=\"24px\">\n",
              "    <path d=\"M7,19H8.4L18.45,9,17,7.55,7,17.6ZM5,21V16.75L18.45,3.32a2,2,0,0,1,2.83,0l1.4,1.43a1.91,1.91,0,0,1,.58,1.4,1.91,1.91,0,0,1-.58,1.4L9.25,21ZM18.45,9,17,7.55Zm-12,3A5.31,5.31,0,0,0,4.9,8.1,5.31,5.31,0,0,0,1,6.5,5.31,5.31,0,0,0,4.9,4.9,5.31,5.31,0,0,0,6.5,1,5.31,5.31,0,0,0,8.1,4.9,5.31,5.31,0,0,0,12,6.5,5.46,5.46,0,0,0,6.5,12Z\"/>\n",
              "  </svg>\n",
              "    </button>\n",
              "    <script>\n",
              "      (() => {\n",
              "      const buttonEl =\n",
              "        document.querySelector('#id_76d9f41a-2b87-4638-905f-220c84840868 button.colab-df-generate');\n",
              "      buttonEl.style.display =\n",
              "        google.colab.kernel.accessAllowed ? 'block' : 'none';\n",
              "\n",
              "      buttonEl.onclick = () => {\n",
              "        google.colab.notebook.generateWithVariable('df_unificado');\n",
              "      }\n",
              "      })();\n",
              "    </script>\n",
              "  </div>\n",
              "\n",
              "    </div>\n",
              "  </div>\n"
            ],
            "application/vnd.google.colaboratory.intrinsic+json": {
              "type": "dataframe",
              "variable_name": "df_unificado",
              "summary": "{\n  \"name\": \"df_unificado\",\n  \"rows\": 10385,\n  \"fields\": [\n    {\n      \"column\": \"Comentario\",\n      \"properties\": {\n        \"dtype\": \"string\",\n        \"num_unique_values\": 8453,\n        \"samples\": [\n          \"Excelente comida, atenci\\u00f3n buena.\",\n          \"La comida y los c\\u00f3cteles son muy buenos. Sin embargo la atenci\\u00f3n del personal puede mejorar.\",\n          \"Muy buen lugar para llegar a Quito y estar cerca del centro hist\\u00f3rico y la zona comercial ...\"\n        ],\n        \"semantic_type\": \"\",\n        \"description\": \"\"\n      }\n    },\n    {\n      \"column\": \"Fecha\",\n      \"properties\": {\n        \"dtype\": \"category\",\n        \"num_unique_values\": 108,\n        \"samples\": [\n          \"Hace 5 meses\",\n          \"Hace 4 meses en Google\",\n          \"Hace un mes en all.accor.com\"\n        ],\n        \"semantic_type\": \"\",\n        \"description\": \"\"\n      }\n    },\n    {\n      \"column\": \"Tipo_Local\",\n      \"properties\": {\n        \"dtype\": \"category\",\n        \"num_unique_values\": 3,\n        \"samples\": [\n          \"Hotel\",\n          \"Restaurante\",\n          \"Bar\"\n        ],\n        \"semantic_type\": \"\",\n        \"description\": \"\"\n      }\n    },\n    {\n      \"column\": \"Calificaci\\u00f3n\",\n      \"properties\": {\n        \"dtype\": \"number\",\n        \"std\": 0.6295185474456809,\n        \"min\": -1.0,\n        \"max\": 1.0,\n        \"num_unique_values\": 3,\n        \"samples\": [\n          1.0,\n          -1.0,\n          0.0\n        ],\n        \"semantic_type\": \"\",\n        \"description\": \"\"\n      }\n    }\n  ]\n}"
            }
          },
          "metadata": {},
          "execution_count": 40
        }
      ]
    },
    {
      "cell_type": "code",
      "source": [
        "df_unificado.shape"
      ],
      "metadata": {
        "colab": {
          "base_uri": "https://localhost:8080/"
        },
        "id": "taE3juQHwiXF",
        "outputId": "83fca55d-3a3a-4fab-a93e-7a506e9d4056"
      },
      "execution_count": null,
      "outputs": [
        {
          "output_type": "execute_result",
          "data": {
            "text/plain": [
              "(10385, 4)"
            ]
          },
          "metadata": {},
          "execution_count": 41
        }
      ]
    },
    {
      "cell_type": "code",
      "source": [
        "# Divide los comentarios en palabras y las aplana en una lista\n",
        "palabras = df_unificado[\"Comentario\"].str.split().explode()\n",
        "\n",
        "# Elimina palabras duplicadas\n",
        "palabras_unicas = palabras.unique()\n",
        "\n",
        "# Cuenta el total de palabras únicas\n",
        "total_palabras_unicas = len(palabras_unicas)\n",
        "\n",
        "print(f\"Total de palabras únicas: {total_palabras_unicas}\")"
      ],
      "metadata": {
        "colab": {
          "base_uri": "https://localhost:8080/"
        },
        "id": "76eb0qqTtd0Z",
        "outputId": "e6788898-d4bb-4a88-fbba-890566007311"
      },
      "execution_count": null,
      "outputs": [
        {
          "output_type": "stream",
          "name": "stdout",
          "text": [
            "Total de palabras únicas: 21561\n"
          ]
        }
      ]
    },
    {
      "cell_type": "markdown",
      "source": [
        "### Vamos a ver la distribución de clases en Calificación\n",
        "Queremos contar cuántos comentarios pertenecen a cada clase (-1, 0, 1) para entender el balance de los datos. Además, podemos graficar esta distribución para visualizarla mejor."
      ],
      "metadata": {
        "id": "fcQ5I4ZAxfwE"
      }
    },
    {
      "cell_type": "code",
      "source": [
        "import matplotlib.pyplot as plt\n",
        "\n",
        "# Contar datos por cada clase en 'Calificación'\n",
        "distribucion_clases = df_unificado['Calificación'].value_counts()\n",
        "\n",
        "# Mostrar los resultados\n",
        "print(\"Distribución de Calificación:\")\n",
        "print(distribucion_clases)\n",
        "\n",
        "# Graficar la distribución\n",
        "distribucion_clases.plot(kind='bar', color=['red', 'gray', 'green'])\n",
        "plt.title(\"Distribución de Calificación\")\n",
        "plt.xlabel(\"Clase (Calificación)\")\n",
        "plt.ylabel(\"Cantidad de comentarios\")\n",
        "plt.xticks(rotation=0)\n",
        "plt.show()\n"
      ],
      "metadata": {
        "colab": {
          "base_uri": "https://localhost:8080/",
          "height": 576
        },
        "id": "qvCxcrneul4s",
        "outputId": "628df552-d00d-42a8-9095-736b0700804b"
      },
      "execution_count": null,
      "outputs": [
        {
          "output_type": "stream",
          "name": "stdout",
          "text": [
            "Distribución de Calificación:\n",
            "Calificación\n",
            " 1.0    8132\n",
            " 0.0    1303\n",
            "-1.0     950\n",
            "Name: count, dtype: int64\n"
          ]
        },
        {
          "output_type": "display_data",
          "data": {
            "text/plain": [
              "<Figure size 640x480 with 1 Axes>"
            ],
            "image/png": "[encoded data removed]"
          },
          "metadata": {}
        }
      ]
    },
    {
      "cell_type": "markdown",
      "source": [
        "En este caso, 2253 negativos y 8132 positivos son suficientes para entrenar un modelo básico.\n",
        "### Cómo combinar las clases\n",
        "Podemos reasignar las calificaciones de esta manera:\n",
        "\n",
        "1.0 → 1 (positivo).\n",
        "0.0 y -1.0 → 0 (no positivo)."
      ],
      "metadata": {
        "id": "CardN2Ge1ibw"
      }
    },
    {
      "cell_type": "code",
      "source": [
        "# Reasignar las clases\n",
        "df_unificado['Calificación_Binaria'] = df_unificado['Calificación'].apply(lambda x: 0 if x <= 0 else 1)\n",
        "\n",
        "# Ver nueva distribución\n",
        "distribucion_binaria = df_unificado['Calificación_Binaria'].value_counts()\n",
        "print(\"Distribución de Calificación Binaria:\")\n",
        "print(distribucion_binaria)\n",
        "\n",
        "# Graficar nueva distribución\n",
        "distribucion_binaria.plot(kind='bar', color=['gray', 'green'])\n",
        "plt.title(\"Distribución de Calificación Binaria\")\n",
        "plt.xlabel(\"Clase (Calificación Binaria)\")\n",
        "plt.ylabel(\"Cantidad de comentarios\")\n",
        "plt.xticks(rotation=0)\n",
        "plt.show()\n"
      ],
      "metadata": {
        "colab": {
          "base_uri": "https://localhost:8080/",
          "height": 663
        },
        "id": "SYwOveOgBgoq",
        "outputId": "f552f1ff-39f4-43e4-8461-4c7806202250"
      },
      "execution_count": null,
      "outputs": [
        {
          "output_type": "stream",
          "name": "stdout",
          "text": [
            "Distribución de Calificación Binaria:\n",
            "Calificación_Binaria\n",
            "1    8132\n",
            "0    2253\n",
            "Name: count, dtype: int64\n"
          ]
        },
        {
          "output_type": "stream",
          "name": "stderr",
          "text": [
            "<ipython-input-56-dd2a1adb0034>:2: SettingWithCopyWarning: \n",
            "A value is trying to be set on a copy of a slice from a DataFrame.\n",
            "Try using .loc[row_indexer,col_indexer] = value instead\n",
            "\n",
            "See the caveats in the documentation: https://pandas.pydata.org/pandas-docs/stable/user_guide/indexing.html#returning-a-view-versus-a-copy\n",
            "  df_unificado['Calificación_Binaria'] = df_unificado['Calificación'].apply(lambda x: 0 if x <= 0 else 1)\n"
          ]
        },
        {
          "output_type": "display_data",
          "data": {
            "text/plain": [
              "<Figure size 640x480 with 1 Axes>"
            ],
            "image/png": "[encoded data removed]"
          },
          "metadata": {}
        }
      ]
    },
    {
      "cell_type": "markdown",
      "source": [
        "## Valanceo de datos\n",
        "Opcion para llegar a 3,000 positivos\n",
        "\n",
        "* Submuestreo (Undersampling): Reducir el número de datos de la clase mayoritaria seleccionando una muestra aleatoria de su población.\n",
        "\n",
        "Submuestrear la clase positiva a 3,000.\n"
      ],
      "metadata": {
        "id": "cf33PqaLFsFb"
      }
    },
    {
      "cell_type": "code",
      "source": [
        "from imblearn.over_sampling import SMOTE\n",
        "from sklearn.model_selection import train_test_split\n",
        "\n",
        "# Separar datos por clase\n",
        "positivos = df_unificado[df_unificado['Calificación_Binaria'] == 1]\n",
        "negativos = df_unificado[df_unificado['Calificación_Binaria'] == 0]\n",
        "\n",
        "# Submuestrear positivos a 3000\n",
        "positivos_submuestreados = positivos.sample(3000, random_state=42)\n",
        "\n",
        "# Mantener todos los negativos\n",
        "negativos_balanceados = negativos\n",
        "\n",
        "# Combinar datos submuestreados y negativos originales\n",
        "df_balanceado = pd.concat([positivos_submuestreados, negativos_balanceados], ignore_index=True)\n",
        "\n",
        "# Verificar la distribución final\n",
        "print(\"Distribución final de las clases:\")\n",
        "print(df_balanceado['Calificación_Binaria'].value_counts())\n",
        "\n",
        "# Vista previa del dataset balanceado\n",
        "print(\"\\nVista previa del dataset balanceado:\")\n",
        "print(df_balanceado.head())\n"
      ],
      "metadata": {
        "colab": {
          "base_uri": "https://localhost:8080/"
        },
        "id": "SW5jA7fnB6Rn",
        "outputId": "e754cf88-bdbc-4bef-df96-129294c9bb40"
      },
      "execution_count": null,
      "outputs": [
        {
          "output_type": "stream",
          "name": "stdout",
          "text": [
            "Distribución final de las clases:\n",
            "Calificación_Binaria\n",
            "1    3000\n",
            "0    2253\n",
            "Name: count, dtype: int64\n",
            "\n",
            "Vista previa del dataset balanceado:\n",
            "                                          Comentario                  Fecha  \\\n",
            "0                                    muy buen lugar,  Hace 6 años en Google   \n",
            "1                                      Todo hermoso!  Hace 5 años en Google   \n",
            "2  Precioso hotel boutique bien cuidado en una zo...  Hace 5 años en Google   \n",
            "3  Excelente ambiente muy buen servicio deliciosa...            Hace 8 años   \n",
            "4  Espectacular.\\nDeliciosa la comida. Una experi...            Hace un año   \n",
            "\n",
            "    Tipo_Local  Calificación  Calificación_Binaria  \n",
            "0        Hotel           1.0                     1  \n",
            "1        Hotel           1.0                     1  \n",
            "2        Hotel           1.0                     1  \n",
            "3          Bar           1.0                     1  \n",
            "4  Restaurante           1.0                     1  \n"
          ]
        }
      ]
    },
    {
      "cell_type": "markdown",
      "source": [
        "## Ventajas del enfoque\n",
        "###Submuestreo:\n",
        "\n",
        "Reduce los datos positivos para evitar que dominen el modelo.\n",
        "Retiene datos reales.\n",
        "\n",
        "\n",
        "Obtendrás 3,000 positivos , lo que es suficiente para entrenar modelos robustos."
      ],
      "metadata": {
        "id": "qrcaxmHcGO-D"
      }
    },
    {
      "cell_type": "markdown",
      "source": [
        "### Despues del Balanceo"
      ],
      "metadata": {
        "id": "2LHe2qjZT09j"
      }
    },
    {
      "cell_type": "code",
      "source": [
        "df_balanceado.shape\n"
      ],
      "metadata": {
        "colab": {
          "base_uri": "https://localhost:8080/"
        },
        "id": "jDDC4TF2GM3Z",
        "outputId": "0dc42fa9-46ed-4183-931c-da94cda90402"
      },
      "execution_count": null,
      "outputs": [
        {
          "output_type": "execute_result",
          "data": {
            "text/plain": [
              "(5253, 5)"
            ]
          },
          "metadata": {},
          "execution_count": 60
        }
      ]
    },
    {
      "cell_type": "code",
      "source": [
        "# Reasignar las clases\n",
        "df_balanceado['Calificación_Binaria'] = df_balanceado['Calificación'].apply(lambda x: 0 if x <= 0 else 1)\n",
        "\n",
        "# Ver nueva distribución\n",
        "distribucion_binaria = df_balanceado['Calificación_Binaria'].value_counts()\n",
        "print(\"Distribución de Calificación Binaria:\")\n",
        "print(distribucion_binaria)\n",
        "\n",
        "# Graficar nueva distribución\n",
        "distribucion_binaria.plot(kind='bar', color=['gray', 'green'])\n",
        "plt.title(\"Distribución de Calificación Binaria\")\n",
        "plt.xlabel(\"Clase (Calificación Binaria)\")\n",
        "plt.ylabel(\"Cantidad de comentarios\")\n",
        "plt.xticks(rotation=0)\n",
        "plt.show()\n"
      ],
      "metadata": {
        "colab": {
          "base_uri": "https://localhost:8080/",
          "height": 559
        },
        "id": "tPsZo0PFTadi",
        "outputId": "d27fb74c-8ffb-4734-ba9a-85270ef16914"
      },
      "execution_count": null,
      "outputs": [
        {
          "output_type": "stream",
          "name": "stdout",
          "text": [
            "Distribución de Calificación Binaria:\n",
            "Calificación_Binaria\n",
            "1    3000\n",
            "0    2253\n",
            "Name: count, dtype: int64\n"
          ]
        },
        {
          "output_type": "display_data",
          "data": {
            "text/plain": [
              "<Figure size 640x480 with 1 Axes>"
            ],
            "image/png": "[encoded data removed]"
          },
          "metadata": {}
        }
      ]
    },
    {
      "cell_type": "markdown",
      "source": [
        "## Limpieza de texto:\n",
        "* Eliminar caracteres especiales, números y emojis.\n",
        "* Convertir todo a minúsculas.\n",
        "## Tokenización:\n",
        "\n",
        "* Dividir el texto en palabras individuales (tokens).\n",
        "## Eliminación de stopwords:\n",
        "\n",
        "* Retirar palabras comunes que no aportan información relevante, como \"el\", \"de\", \"pero\".\n",
        "##Lematización:\n",
        "\n",
        "* Reducir las palabras a su forma base para evitar redundancias.\n",
        "## Vectorización con TF-IDF:\n",
        "\n",
        "* Transformar los textos en una matriz numérica basada en la importancia de las palabras."
      ],
      "metadata": {
        "id": "RI-cIjjtVKv8"
      }
    },
    {
      "cell_type": "code",
      "source": [
        "import re\n",
        "import nltk\n",
        "\n",
        "# Descargar recursos necesarios para procesamiento de texto\n",
        "nltk.download('stopwords')\n",
        "nltk.download('wordnet')\n",
        "nltk.download('omw-1.4')\n",
        "\n",
        "from nltk.corpus import stopwords\n",
        "from nltk.stem import WordNetLemmatizer\n",
        "\n",
        "# Inicializar stopwords y lematizador\n",
        "stop_words = set(stopwords.words('spanish'))\n",
        "\n",
        "# Lista ampliada de palabras relevantes\n",
        "palabras_relevantes = {\n",
        "    \"pero\", \"aunque\", \"sin embargo\", \"no obstante\", \"mas\", \"empero\",\n",
        "    \"a pesar de\", \"pese a\", \"al contrario\", \"por el contrario\",\n",
        "    \"en cambio\", \"mientras que\", \"sino\", \"sino que\", \"con todo\",\n",
        "    \"antes bien\", \"si bien\", \"no\", \"nunca\",\"no es como antes\"\n",
        "}\n",
        "\n",
        "# Eliminar las palabras relevantes de las stopwords\n",
        "stop_words -= palabras_relevantes\n",
        "\n",
        "lemmatizer = WordNetLemmatizer()\n",
        "\n",
        "def clean_text(text):\n",
        "    \"\"\"\n",
        "    Limpia y preprocesa un texto:\n",
        "    1. Elimina caracteres especiales, números y emojis.\n",
        "    2. Convierte a minúsculas.\n",
        "    3. Tokeniza.\n",
        "    4. Elimina stopwords (sin eliminar palabras relevantes).\n",
        "    5. Lematiza las palabras.\n",
        "    \"\"\"\n",
        "    # Eliminar caracteres especiales, números y emojis\n",
        "    text = re.sub(r'[^\\w\\s]', '', text)  # Quitar signos de puntuación\n",
        "    text = re.sub(r'\\d+', '', text)      # Quitar números\n",
        "    text = re.sub(r'[^\\x00-\\x7F]+', '', text)  # Quitar emojis y caracteres no ASCII\n",
        "    text = text.lower()  # Convertir a minúsculas\n",
        "\n",
        "    # Tokenizar\n",
        "    tokens = text.split()\n",
        "\n",
        "    # Eliminar stopwords (manteniendo palabras relevantes)\n",
        "    tokens = [word for word in tokens if word not in stop_words]\n",
        "\n",
        "    # Lematizar\n",
        "    tokens = [lemmatizer.lemmatize(word) for word in tokens]\n",
        "\n",
        "    return ' '.join(tokens)\n",
        "\n",
        "# Aplicar limpieza a los comentarios\n",
        "df_balanceado['Comentario_Limpiado'] = df_balanceado['Comentario'].apply(clean_text)\n",
        "\n",
        "# Verificar resultado\n",
        "print(\"Vista previa de comentarios limpios:\")\n",
        "print(df_balanceado[['Comentario', 'Comentario_Limpiado']].head())\n"
      ],
      "metadata": {
        "colab": {
          "base_uri": "https://localhost:8080/"
        },
        "id": "MhQDIFZQTwRR",
        "outputId": "fe7ad0aa-911e-4588-dcc5-2e8e08ccd96d"
      },
      "execution_count": null,
      "outputs": [
        {
          "output_type": "stream",
          "name": "stderr",
          "text": [
            "[nltk_data] Downloading package stopwords to /root/nltk_data...\n",
            "[nltk_data]   Package stopwords is already up-to-date!\n",
            "[nltk_data] Downloading package wordnet to /root/nltk_data...\n",
            "[nltk_data]   Package wordnet is already up-to-date!\n",
            "[nltk_data] Downloading package omw-1.4 to /root/nltk_data...\n",
            "[nltk_data]   Package omw-1.4 is already up-to-date!\n"
          ]
        },
        {
          "output_type": "stream",
          "name": "stdout",
          "text": [
            "Vista previa de comentarios limpios:\n",
            "                                          Comentario  \\\n",
            "0                                    muy buen lugar,   \n",
            "1                                      Todo hermoso!   \n",
            "2  Precioso hotel boutique bien cuidado en una zo...   \n",
            "3  Excelente ambiente muy buen servicio deliciosa...   \n",
            "4  Espectacular.\\nDeliciosa la comida. Una experi...   \n",
            "\n",
            "                                 Comentario_Limpiado  \n",
            "0                                         buen lugar  \n",
            "1                                            hermoso  \n",
            "2  precioso hotel boutique bien cuidado zona tran...  \n",
            "3  excelente ambiente buen servicio deliciosa com...  \n",
            "4  espectacular deliciosa comida experiencia sabores  \n"
          ]
        }
      ]
    },
    {
      "cell_type": "markdown",
      "source": [
        "Lista personalizada de stopwords:\n",
        "\n",
        "Se descarga la lista estándar de stopwords en español.\n",
        "Se eliminan palabras relevantes como \"pero\", \"aunque\", etc., de la lista de stopwords para que no sean eliminadas del texto.\n",
        "Preprocesamiento del texto:\n",
        "\n",
        "Limpia el texto de caracteres especiales, números y emojis.\n",
        "Convierte el texto a minúsculas.\n",
        "Tokeniza el texto y elimina las stopwords personalizadas.\n",
        "Lematiza las palabras restantes.\n",
        "Crea una nueva columna (Comentario_Limpiado) con los comentarios procesados."
      ],
      "metadata": {
        "id": "YG7TW7SXXtMR"
      }
    },
    {
      "cell_type": "code",
      "source": [
        "df_balanceado[['Comentario', 'Comentario_Limpiado']]"
      ],
      "metadata": {
        "colab": {
          "base_uri": "https://localhost:8080/",
          "height": 424
        },
        "id": "C9w1xr0WXu19",
        "outputId": "6cb52983-d19b-4ae6-e7c0-e3d2fcd38f34"
      },
      "execution_count": null,
      "outputs": [
        {
          "output_type": "execute_result",
          "data": {
            "text/plain": [
              "                                             Comentario  \\\n",
              "0                                       muy buen lugar,   \n",
              "1                                         Todo hermoso!   \n",
              "2     Precioso hotel boutique bien cuidado en una zo...   \n",
              "3     Excelente ambiente muy buen servicio deliciosa...   \n",
              "4     Espectacular.\\nDeliciosa la comida. Una experi...   \n",
              "...                                                 ...   \n",
              "5248           Muy oscuro, mucho ruido, no de mi agrado   \n",
              "5249                                No se llama tijuana   \n",
              "5250                                  No es tan animado   \n",
              "5251                                   No es como antes   \n",
              "5252                    Bonito lugar para pasar el rato   \n",
              "\n",
              "                                    Comentario_Limpiado  \n",
              "0                                            buen lugar  \n",
              "1                                               hermoso  \n",
              "2     precioso hotel boutique bien cuidado zona tran...  \n",
              "3     excelente ambiente buen servicio deliciosa com...  \n",
              "4     espectacular deliciosa comida experiencia sabores  \n",
              "...                                                 ...  \n",
              "5248                             oscuro ruido no agrado  \n",
              "5249                                   no llama tijuana  \n",
              "5250                                     no tan animado  \n",
              "5251                                                 no  \n",
              "5252                            bonito lugar pasar rato  \n",
              "\n",
              "[5253 rows x 2 columns]"
            ],
            "text/html": [
              "\n",
              "  <div id=\"df-ed3faac3-b0c2-4616-ad6a-d59ca5533a57\" class=\"colab-df-container\">\n",
              "    <div>\n",
              "<style scoped>\n",
              "    .dataframe tbody tr th:only-of-type {\n",
              "        vertical-align: middle;\n",
              "    }\n",
              "\n",
              "    .dataframe tbody tr th {\n",
              "        vertical-align: top;\n",
              "    }\n",
              "\n",
              "    .dataframe thead th {\n",
              "        text-align: right;\n",
              "    }\n",
              "</style>\n",
              "<table border=\"1\" class=\"dataframe\">\n",
              "  <thead>\n",
              "    <tr style=\"text-align: right;\">\n",
              "      <th></th>\n",
              "      <th>Comentario</th>\n",
              "      <th>Comentario_Limpiado</th>\n",
              "    </tr>\n",
              "  </thead>\n",
              "  <tbody>\n",
              "    <tr>\n",
              "      <th>0</th>\n",
              "      <td>muy buen lugar,</td>\n",
              "      <td>buen lugar</td>\n",
              "    </tr>\n",
              "    <tr>\n",
              "      <th>1</th>\n",
              "      <td>Todo hermoso!</td>\n",
              "      <td>hermoso</td>\n",
              "    </tr>\n",
              "    <tr>\n",
              "      <th>2</th>\n",
              "      <td>Precioso hotel boutique bien cuidado en una zo...</td>\n",
              "      <td>precioso hotel boutique bien cuidado zona tran...</td>\n",
              "    </tr>\n",
              "    <tr>\n",
              "      <th>3</th>\n",
              "      <td>Excelente ambiente muy buen servicio deliciosa...</td>\n",
              "      <td>excelente ambiente buen servicio deliciosa com...</td>\n",
              "    </tr>\n",
              "    <tr>\n",
              "      <th>4</th>\n",
              "      <td>Espectacular.\\nDeliciosa la comida. Una experi...</td>\n",
              "      <td>espectacular deliciosa comida experiencia sabores</td>\n",
              "    </tr>\n",
              "    <tr>\n",
              "      <th>...</th>\n",
              "      <td>...</td>\n",
              "      <td>...</td>\n",
              "    </tr>\n",
              "    <tr>\n",
              "      <th>5248</th>\n",
              "      <td>Muy oscuro, mucho ruido, no de mi agrado</td>\n",
              "      <td>oscuro ruido no agrado</td>\n",
              "    </tr>\n",
              "    <tr>\n",
              "      <th>5249</th>\n",
              "      <td>No se llama tijuana</td>\n",
              "      <td>no llama tijuana</td>\n",
              "    </tr>\n",
              "    <tr>\n",
              "      <th>5250</th>\n",
              "      <td>No es tan animado</td>\n",
              "      <td>no tan animado</td>\n",
              "    </tr>\n",
              "    <tr>\n",
              "      <th>5251</th>\n",
              "      <td>No es como antes</td>\n",
              "      <td>no</td>\n",
              "    </tr>\n",
              "    <tr>\n",
              "      <th>5252</th>\n",
              "      <td>Bonito lugar para pasar el rato</td>\n",
              "      <td>bonito lugar pasar rato</td>\n",
              "    </tr>\n",
              "  </tbody>\n",
              "</table>\n",
              "<p>5253 rows × 2 columns</p>\n",
              "</div>\n",
              "    <div class=\"colab-df-buttons\">\n",
              "\n",
              "  <div class=\"colab-df-container\">\n",
              "    <button class=\"colab-df-convert\" onclick=\"convertToInteractive('df-ed3faac3-b0c2-4616-ad6a-d59ca5533a57')\"\n",
              "            title=\"Convert this dataframe to an interactive table.\"\n",
              "            style=\"display:none;\">\n",
              "\n",
              "  <svg xmlns=\"http://www.w3.org/2000/svg\" height=\"24px\" viewBox=\"0 -960 960 960\">\n",
              "    <path d=\"M120-120v-720h720v720H120Zm60-500h600v-160H180v160Zm220 220h160v-160H400v160Zm0 220h160v-160H400v160ZM180-400h160v-160H180v160Zm440 0h160v-160H620v160ZM180-180h160v-160H180v160Zm440 0h160v-160H620v160Z\"/>\n",
              "  </svg>\n",
              "    </button>\n",
              "\n",
              "  <style>\n",
              "    .colab-df-container {\n",
              "      display:flex;\n",
              "      gap: 12px;\n",
              "    }\n",
              "\n",
              "    .colab-df-convert {\n",
              "      background-color: #E8F0FE;\n",
              "      border: none;\n",
              "      border-radius: 50%;\n",
              "      cursor: pointer;\n",
              "      display: none;\n",
              "      fill: #1967D2;\n",
              "      height: 32px;\n",
              "      padding: 0 0 0 0;\n",
              "      width: 32px;\n",
              "    }\n",
              "\n",
              "    .colab-df-convert:hover {\n",
              "      background-color: #E2EBFA;\n",
              "      box-shadow: 0px 1px 2px rgba(60, 64, 67, 0.3), 0px 1px 3px 1px rgba(60, 64, 67, 0.15);\n",
              "      fill: #174EA6;\n",
              "    }\n",
              "\n",
              "    .colab-df-buttons div {\n",
              "      margin-bottom: 4px;\n",
              "    }\n",
              "\n",
              "    [theme=dark] .colab-df-convert {\n",
              "      background-color: #3B4455;\n",
              "      fill: #D2E3FC;\n",
              "    }\n",
              "\n",
              "    [theme=dark] .colab-df-convert:hover {\n",
              "      background-color: #434B5C;\n",
              "      box-shadow: 0px 1px 3px 1px rgba(0, 0, 0, 0.15);\n",
              "      filter: drop-shadow(0px 1px 2px rgba(0, 0, 0, 0.3));\n",
              "      fill: #FFFFFF;\n",
              "    }\n",
              "  </style>\n",
              "\n",
              "    <script>\n",
              "      const buttonEl =\n",
              "        document.querySelector('#df-ed3faac3-b0c2-4616-ad6a-d59ca5533a57 button.colab-df-convert');\n",
              "      buttonEl.style.display =\n",
              "        google.colab.kernel.accessAllowed ? 'block' : 'none';\n",
              "\n",
              "      async function convertToInteractive(key) {\n",
              "        const element = document.querySelector('#df-ed3faac3-b0c2-4616-ad6a-d59ca5533a57');\n",
              "        const dataTable =\n",
              "          await google.colab.kernel.invokeFunction('convertToInteractive',\n",
              "                                                    [key], {});\n",
              "        if (!dataTable) return;\n",
              "\n",
              "        const docLinkHtml = 'Like what you see? Visit the ' +\n",
              "          '<a target=\"_blank\" href=https://colab.research.google.com/notebooks/data_table.ipynb>data table notebook</a>'\n",
              "          + ' to learn more about interactive tables.';\n",
              "        element.innerHTML = '';\n",
              "        dataTable['output_type'] = 'display_data';\n",
              "        await google.colab.output.renderOutput(dataTable, element);\n",
              "        const docLink = document.createElement('div');\n",
              "        docLink.innerHTML = docLinkHtml;\n",
              "        element.appendChild(docLink);\n",
              "      }\n",
              "    </script>\n",
              "  </div>\n",
              "\n",
              "\n",
              "<div id=\"df-96547606-3764-4cdc-b0f9-61ad7e493f68\">\n",
              "  <button class=\"colab-df-quickchart\" onclick=\"quickchart('df-96547606-3764-4cdc-b0f9-61ad7e493f68')\"\n",
              "            title=\"Suggest charts\"\n",
              "            style=\"display:none;\">\n",
              "\n",
              "<svg xmlns=\"http://www.w3.org/2000/svg\" height=\"24px\"viewBox=\"0 0 24 24\"\n",
              "     width=\"24px\">\n",
              "    <g>\n",
              "        <path d=\"M19 3H5c-1.1 0-2 .9-2 2v14c0 1.1.9 2 2 2h14c1.1 0 2-.9 2-2V5c0-1.1-.9-2-2-2zM9 17H7v-7h2v7zm4 0h-2V7h2v10zm4 0h-2v-4h2v4z\"/>\n",
              "    </g>\n",
              "</svg>\n",
              "  </button>\n",
              "\n",
              "<style>\n",
              "  .colab-df-quickchart {\n",
              "      --bg-color: #E8F0FE;\n",
              "      --fill-color: #1967D2;\n",
              "      --hover-bg-color: #E2EBFA;\n",
              "      --hover-fill-color: #174EA6;\n",
              "      --disabled-fill-color: #AAA;\n",
              "      --disabled-bg-color: #DDD;\n",
              "  }\n",
              "\n",
              "  [theme=dark] .colab-df-quickchart {\n",
              "      --bg-color: #3B4455;\n",
              "      --fill-color: #D2E3FC;\n",
              "      --hover-bg-color: #434B5C;\n",
              "      --hover-fill-color: #FFFFFF;\n",
              "      --disabled-bg-color: #3B4455;\n",
              "      --disabled-fill-color: #666;\n",
              "  }\n",
              "\n",
              "  .colab-df-quickchart {\n",
              "    background-color: var(--bg-color);\n",
              "    border: none;\n",
              "    border-radius: 50%;\n",
              "    cursor: pointer;\n",
              "    display: none;\n",
              "    fill: var(--fill-color);\n",
              "    height: 32px;\n",
              "    padding: 0;\n",
              "    width: 32px;\n",
              "  }\n",
              "\n",
              "  .colab-df-quickchart:hover {\n",
              "    background-color: var(--hover-bg-color);\n",
              "    box-shadow: 0 1px 2px rgba(60, 64, 67, 0.3), 0 1px 3px 1px rgba(60, 64, 67, 0.15);\n",
              "    fill: var(--button-hover-fill-color);\n",
              "  }\n",
              "\n",
              "  .colab-df-quickchart-complete:disabled,\n",
              "  .colab-df-quickchart-complete:disabled:hover {\n",
              "    background-color: var(--disabled-bg-color);\n",
              "    fill: var(--disabled-fill-color);\n",
              "    box-shadow: none;\n",
              "  }\n",
              "\n",
              "  .colab-df-spinner {\n",
              "    border: 2px solid var(--fill-color);\n",
              "    border-color: transparent;\n",
              "    border-bottom-color: var(--fill-color);\n",
              "    animation:\n",
              "      spin 1s steps(1) infinite;\n",
              "  }\n",
              "\n",
              "  @keyframes spin {\n",
              "    0% {\n",
              "      border-color: transparent;\n",
              "      border-bottom-color: var(--fill-color);\n",
              "      border-left-color: var(--fill-color);\n",
              "    }\n",
              "    20% {\n",
              "      border-color: transparent;\n",
              "      border-left-color: var(--fill-color);\n",
              "      border-top-color: var(--fill-color);\n",
              "    }\n",
              "    30% {\n",
              "      border-color: transparent;\n",
              "      border-left-color: var(--fill-color);\n",
              "      border-top-color: var(--fill-color);\n",
              "      border-right-color: var(--fill-color);\n",
              "    }\n",
              "    40% {\n",
              "      border-color: transparent;\n",
              "      border-right-color: var(--fill-color);\n",
              "      border-top-color: var(--fill-color);\n",
              "    }\n",
              "    60% {\n",
              "      border-color: transparent;\n",
              "      border-right-color: var(--fill-color);\n",
              "    }\n",
              "    80% {\n",
              "      border-color: transparent;\n",
              "      border-right-color: var(--fill-color);\n",
              "      border-bottom-color: var(--fill-color);\n",
              "    }\n",
              "    90% {\n",
              "      border-color: transparent;\n",
              "      border-bottom-color: var(--fill-color);\n",
              "    }\n",
              "  }\n",
              "</style>\n",
              "\n",
              "  <script>\n",
              "    async function quickchart(key) {\n",
              "      const quickchartButtonEl =\n",
              "        document.querySelector('#' + key + ' button');\n",
              "      quickchartButtonEl.disabled = true;  // To prevent multiple clicks.\n",
              "      quickchartButtonEl.classList.add('colab-df-spinner');\n",
              "      try {\n",
              "        const charts = await google.colab.kernel.invokeFunction(\n",
              "            'suggestCharts', [key], {});\n",
              "      } catch (error) {\n",
              "        console.error('Error during call to suggestCharts:', error);\n",
              "      }\n",
              "      quickchartButtonEl.classList.remove('colab-df-spinner');\n",
              "      quickchartButtonEl.classList.add('colab-df-quickchart-complete');\n",
              "    }\n",
              "    (() => {\n",
              "      let quickchartButtonEl =\n",
              "        document.querySelector('#df-96547606-3764-4cdc-b0f9-61ad7e493f68 button');\n",
              "      quickchartButtonEl.style.display =\n",
              "        google.colab.kernel.accessAllowed ? 'block' : 'none';\n",
              "    })();\n",
              "  </script>\n",
              "</div>\n",
              "\n",
              "    </div>\n",
              "  </div>\n"
            ],
            "application/vnd.google.colaboratory.intrinsic+json": {
              "type": "dataframe",
              "summary": "{\n  \"name\": \"df_balanceado[['Comentario', 'Comentario_Limpiado']]\",\n  \"rows\": 5253,\n  \"fields\": [\n    {\n      \"column\": \"Comentario\",\n      \"properties\": {\n        \"dtype\": \"string\",\n        \"num_unique_values\": 4431,\n        \"samples\": [\n          \"Delicioso!!!! \\ud83d\\udcaf... muy buena atenci\\u00f3n...\\u2026\",\n          \"Buena atenci\\u00f3n y excelente comida\",\n          \"No recomiendo al menos en d\\u00edas especiales. Sobrevendieron el lugar, gente esperando mas de 40 min para una mesa a\\u00fan cuando hubo reserva. Atenci\\u00f3n p\\u00e9sima por no decir de lo peor, mesas amontonadas para meter a mas gente. Al final se \\u201cdisculparon\\u201d diciendo que la gente no colabor\\u00f3 porque no quer\\u00eda irse r\\u00e1pido\\u2026 osea estuvieron apurando a la gente para que se vaya y siga entrando m\\u00e1s clientes como si fuera un lugar de almuerzos. El men\\u00fa cost\\u00f3 mas de 50 d\\u00f3lar por persona, al menos esperas una mejor atenci\\u00f3n, puntualidad y que no te anden apurando a que te vayas. La peor de las experiencias. \\ud83d\\udeab no recomiendo este lugar!!\"\n        ],\n        \"semantic_type\": \"\",\n        \"description\": \"\"\n      }\n    },\n    {\n      \"column\": \"Comentario_Limpiado\",\n      \"properties\": {\n        \"dtype\": \"string\",\n        \"num_unique_values\": 4240,\n        \"samples\": [\n          \"lugar perfecto cita acogedor comida deliciosa nico malo no piden carnet vacunacin solo no doy estrellas\",\n          \"lugar probar comida ecuatoriana gourmet plato tradicionales algn plus comida tal diferente esperara pero buen sabor porciones buenas cerveza artesanal tambin buena atencin exterior a debe llevar ropa frio aunque prestaron poncho buena atencin\",\n          \"excelente servicio buena carta vino comida deliciosa\"\n        ],\n        \"semantic_type\": \"\",\n        \"description\": \"\"\n      }\n    }\n  ]\n}"
            }
          },
          "metadata": {},
          "execution_count": 72
        }
      ]
    },
    {
      "cell_type": "markdown",
      "source": [
        "#### Vectorizacion"
      ],
      "metadata": {
        "id": "8zBfGmcwaxlE"
      }
    },
    {
      "cell_type": "code",
      "source": [
        "from sklearn.feature_extraction.text import TfidfVectorizer\n",
        "\n",
        "# Configuración de TF-IDF para unigramas y bigramas, con 5000 características\n",
        "vectorizer = TfidfVectorizer(\n",
        "    max_features=5000,        # Limitar el número máximo de palabras\n",
        "    ngram_range=(1, 2),       # Considerar unigramas y bigramas\n",
        "    stop_words=None           # No aplicar stopwords aquí, ya se manejaron antes\n",
        ")\n",
        "\n",
        "# Aplicar TF-IDF a los comentarios limpios\n",
        "X = vectorizer.fit_transform(df_balanceado['Comentario_Limpiado'])\n",
        "\n",
        "# Etiquetas (Calificación Binaria)\n",
        "y = df_balanceado['Calificación_Binaria']\n",
        "\n",
        "# Verificar dimensiones de la matriz TF-IDF\n",
        "print(\"Dimensiones de la matriz TF-IDF:\", X.shape)\n",
        "\n",
        "# Mostrar las palabras más importantes (opcional)\n",
        "print(\"\\nPalabras más importantes según TF-IDF:\")\n",
        "print(vectorizer.get_feature_names_out()[:20])  # Las primeras 20 palabras"
      ],
      "metadata": {
        "colab": {
          "base_uri": "https://localhost:8080/"
        },
        "id": "3ZPV5Ro7Zu7y",
        "outputId": "fefd819a-5f5b-48be-88a5-b4a6c5fcbd60"
      },
      "execution_count": null,
      "outputs": [
        {
          "output_type": "stream",
          "name": "stdout",
          "text": [
            "Dimensiones de la matriz TF-IDF: (5253, 5000)\n",
            "\n",
            "Palabras más importantes según TF-IDF:\n",
            "['abierta' 'abierto' 'abonar' 'abren' 'abril' 'abrir' 'absolutamente'\n",
            " 'absoluto' 'absurdo' 'abuela' 'abundante' 'abysmo' 'ac' 'acabo'\n",
            " 'accesible' 'accesibles' 'acceso' 'aceite' 'aceptable' 'aceptaron']\n"
          ]
        }
      ]
    },
    {
      "cell_type": "code",
      "source": [
        "# Mostrar los pesos de palabras y bigramas más importantes\n",
        "tfidf_scores = zip(vectorizer.get_feature_names_out(), X.sum(axis=0).tolist()[0])\n",
        "sorted_tfidf_scores = sorted(tfidf_scores, key=lambda x: x[1], reverse=True)\n",
        "print(\"Palabras o bigramas más frecuentes según TF-IDF:\")\n",
        "for word, score in sorted_tfidf_scores[:20]:\n",
        "    print(f\"{word}: {score}\")\n"
      ],
      "metadata": {
        "colab": {
          "base_uri": "https://localhost:8080/"
        },
        "id": "mPjr92uRcxBR",
        "outputId": "5476f6fb-abcd-428d-ad3d-8c7c3c34ca1a"
      },
      "execution_count": null,
      "outputs": [
        {
          "output_type": "stream",
          "name": "stdout",
          "text": [
            "Palabras o bigramas más frecuentes según TF-IDF:\n",
            "excelente: 318.95904692151777\n",
            "lugar: 188.7558553096832\n",
            "comida: 162.62116470368625\n",
            "buena: 157.9046603073179\n",
            "servicio: 154.52704600133637\n",
            "atencin: 144.74750089875477\n",
            "no: 143.34282113805898\n",
            "hotel: 139.08616386938127\n",
            "buen: 136.8921711290735\n",
            "bien: 95.0605560400777\n",
            "ambiente: 85.07048239342713\n",
            "excelente servicio: 78.25026716001418\n",
            "pero: 77.37300008337797\n",
            "bueno: 74.94447305154944\n",
            "bonito: 73.83225584458343\n",
            "acogedor: 68.9935886177025\n",
            "personal: 66.13476592204877\n",
            "quito: 58.94406059958315\n",
            "recomendado: 57.7921688328674\n",
            "habitaciones: 57.68517779561747\n"
          ]
        }
      ]
    },
    {
      "cell_type": "markdown",
      "source": [
        "# Division de datos"
      ],
      "metadata": {
        "id": "DsONSUaalNbV"
      }
    },
    {
      "cell_type": "code",
      "source": [
        "from sklearn.model_selection import train_test_split\n",
        "\n",
        "# Dividir los datos en entrenamiento (80%) y prueba (20%)\n",
        "X_train, X_test, y_train, y_test = train_test_split(\n",
        "    X, y, test_size=0.2, random_state=42, stratify=y\n",
        ")\n",
        "\n",
        "# Verificar las dimensiones de los conjuntos\n",
        "print(\"Conjunto de entrenamiento:\", X_train.shape)\n",
        "print(\"Conjunto de prueba:\", X_test.shape)\n"
      ],
      "metadata": {
        "colab": {
          "base_uri": "https://localhost:8080/"
        },
        "id": "PKZVb7JJexMY",
        "outputId": "63931954-763c-4c42-afc6-492206152a78"
      },
      "execution_count": null,
      "outputs": [
        {
          "output_type": "stream",
          "name": "stdout",
          "text": [
            "Conjunto de entrenamiento: (4202, 5000)\n",
            "Conjunto de prueba: (1051, 5000)\n"
          ]
        }
      ]
    },
    {
      "cell_type": "markdown",
      "source": [
        "# Entrenar los modelos"
      ],
      "metadata": {
        "id": "WbdHPWdvlXZ1"
      }
    },
    {
      "cell_type": "markdown",
      "source": [
        "Paso 1: Entrenar cada modelo\n",
        "Modelo 1: Naive Bayes\n",
        "\n",
        "Entrenamos y evaluamos este modelo como el más rápido y eficiente con datos TF-IDF.\n",
        "Por qué iniciar con Naive Bayes:\n",
        "Es simple y funciona bien con datos textuales.\n",
        "Sirve como línea base para comparar con modelos más complejos.\n",
        "Modelo 2: Random Forest\n",
        "\n",
        "Entrenamos este modelo como una técnica basada en árboles que puede manejar relaciones no lineales.\n",
        "Por qué probar Random Forest:\n",
        "Es robusto frente a características irrelevantes.\n",
        "Puede manejar datos desbalanceados ajustando pesos.\n",
        "Modelo 3: SVM\n",
        "\n",
        "Finalmente, probamos SVM como un modelo poderoso para alta dimensionalidad.\n",
        "Por qué usar SVM:\n",
        "Se desempeña bien con datos transformados en TF-IDF.\n",
        "Su función de margen maximiza la separación entre clases.\n",
        "Paso 2: Evaluar cada modelo\n",
        "Para cada modelo:\n",
        "\n",
        "Calculamos métricas básicas:\n",
        "Accuracy, Precision, Recall, F1-Score.\n",
        "Visualizamos la matriz de confusión:\n",
        "Esto te permitirá entender qué tan bien predice cada clase.\n",
        "Calculamos el ROC-AUC (si es aplicable):\n",
        "Solo para modelos que pueden predecir probabilidades, como Naive Bayes y Random Forest.\n",
        "Medimos los tiempos de entrenamiento y predicción:\n",
        "Esto es útil si necesitas que el modelo sea rápido en producción.\n",
        "Paso 3: Comparar los resultados\n",
        "Compila los resultados de todas las métricas.\n",
        "\n",
        "Identifica fortalezas y debilidades de cada modelo:\n",
        "\n",
        "¿Cuál tiene mejor F1-score en las clases desbalanceadas?\n",
        "¿Cuál es más eficiente en términos de tiempo?\n",
        "¿Cuál maneja mejor las clases minoritarias?\n",
        "Toma una decisión:\n",
        "\n",
        "Basándote en métricas, tiempos y necesidades específicas, elige el modelo que mejor se ajuste a tus objetivos."
      ],
      "metadata": {
        "id": "TSDC_oVymNIJ"
      }
    },
    {
      "cell_type": "markdown",
      "source": [
        "## Modelo 1: Naive Bayes"
      ],
      "metadata": {
        "id": "rdZUu9-QlZpI"
      }
    },
    {
      "cell_type": "markdown",
      "source": [
        "Paso 2: Entrenar y evaluar el primer modelo\n",
        "Ahora usaremos el primer modelo, Naive Bayes, para que veas cómo avanzar.\n",
        "\n",
        "Entrena el modelo Naive Bayes:\n",
        "\n",
        "Usa MultinomialNB para entrenar el modelo con X_train y y_train.\n",
        "Haz predicciones en el conjunto de prueba:\n",
        "\n",
        "Usa nb_model.predict(X_test) para obtener las predicciones.\n",
        "Evalúa el modelo:\n",
        "\n",
        "Usa la función evaluate_model para obtener métricas detalladas."
      ],
      "metadata": {
        "id": "HirosBHYnU7E"
      }
    },
    {
      "cell_type": "code",
      "source": [
        "from sklearn.metrics import confusion_matrix, roc_auc_score, roc_curve\n",
        "import matplotlib.pyplot as plt\n",
        "import seaborn as sns\n",
        "import time\n",
        "\n",
        "def evaluate_model(model, X_test, y_test, y_pred):\n",
        "    \"\"\"\n",
        "    Evalúa el rendimiento de un modelo con métricas adicionales.\n",
        "    \"\"\"\n",
        "    print(\"Accuracy:\", accuracy_score(y_test, y_pred))\n",
        "    print(\"Classification Report:\")\n",
        "    print(classification_report(y_test, y_pred))\n",
        "\n",
        "    # Matriz de confusión\n",
        "    cm = confusion_matrix(y_test, y_pred)\n",
        "    plt.figure(figsize=(6, 4))\n",
        "    sns.heatmap(cm, annot=True, fmt='d', cmap='Blues', xticklabels=model.classes_, yticklabels=model.classes_)\n",
        "    plt.title(\"Matriz de confusión\")\n",
        "    plt.xlabel(\"Predicciones\")\n",
        "    plt.ylabel(\"Valores reales\")\n",
        "    plt.show()\n",
        "\n",
        "    # ROC-AUC (si es un problema binario y el modelo tiene predict_proba)\n",
        "    if hasattr(model, \"predict_proba\") and len(model.classes_) == 2:\n",
        "        auc = roc_auc_score(y_test, model.predict_proba(X_test)[:, 1])\n",
        "        print(\"ROC-AUC Score:\", auc)\n",
        "\n",
        "        # Curva ROC\n",
        "        fpr, tpr, _ = roc_curve(y_test, model.predict_proba(X_test)[:, 1])\n",
        "        plt.figure(figsize=(6, 4))\n",
        "        plt.plot(fpr, tpr, label=f\"ROC Curve (AUC = {auc:.2f})\")\n",
        "        plt.plot([0, 1], [0, 1], 'k--')\n",
        "        plt.xlabel(\"False Positive Rate\")\n",
        "        plt.ylabel(\"True Positive Rate\")\n",
        "        plt.title(\"Curva ROC\")\n",
        "        plt.legend()\n",
        "        plt.show()\n"
      ],
      "metadata": {
        "id": "blnzuwvfoBAN"
      },
      "execution_count": null,
      "outputs": []
    },
    {
      "cell_type": "code",
      "source": [
        "from sklearn.naive_bayes import MultinomialNB\n",
        "from sklearn.metrics import accuracy_score, classification_report, confusion_matrix\n",
        "\n",
        "# Entrenar Naive Bayes\n",
        "nb_model = MultinomialNB()\n",
        "nb_model.fit(X_train, y_train)\n",
        "\n",
        "# Hacer predicciones en el conjunto de prueba\n",
        "y_pred_nb = nb_model.predict(X_test)\n",
        "\n",
        "# Evaluar Naive Bayes\n",
        "print(\"\\n=== Evaluación de Naive Bayes ===\")\n",
        "evaluate_model(nb_model, X_test, y_test, y_pred_nb)\n"
      ],
      "metadata": {
        "colab": {
          "base_uri": "https://localhost:8080/",
          "height": 1000
        },
        "id": "DX5C1ALGk4BC",
        "outputId": "fd1e8cde-bdaa-42a3-e88f-fd9ad06a248d"
      },
      "execution_count": null,
      "outputs": [
        {
          "output_type": "stream",
          "name": "stdout",
          "text": [
            "\n",
            "=== Evaluación de Naive Bayes ===\n",
            "Accuracy: 0.7897240723120837\n",
            "Classification Report:\n",
            "              precision    recall  f1-score   support\n",
            "\n",
            "           0       0.83      0.64      0.72       451\n",
            "           1       0.77      0.90      0.83       600\n",
            "\n",
            "    accuracy                           0.79      1051\n",
            "   macro avg       0.80      0.77      0.78      1051\n",
            "weighted avg       0.80      0.79      0.78      1051\n",
            "\n"
          ]
        },
        {
          "output_type": "display_data",
          "data": {
            "text/plain": [
              "<Figure size 600x400 with 2 Axes>"
            ],
            "image/png": "[encoded data removed]"
          },
          "metadata": {}
        },
        {
          "output_type": "stream",
          "name": "stdout",
          "text": [
            "ROC-AUC Score: 0.857930524759793\n"
          ]
        },
        {
          "output_type": "display_data",
          "data": {
            "text/plain": [
              "<Figure size 600x400 with 1 Axes>"
            ],
            "image/png": "[encoded data removed]"
          },
          "metadata": {}
        }
      ]
    },
    {
      "cell_type": "markdown",
      "source": [
        "# Random Forest"
      ],
      "metadata": {
        "id": "ioshXXcvnnNG"
      }
    },
    {
      "cell_type": "code",
      "source": [
        "from sklearn.ensemble import RandomForestClassifier\n",
        "\n",
        "# Entrenar Random Forest\n",
        "rf_model = RandomForestClassifier(n_estimators=100, random_state=42)\n",
        "rf_model.fit(X_train, y_train)\n",
        "\n",
        "# Hacer predicciones en el conjunto de prueba\n",
        "y_pred_rf = rf_model.predict(X_test)\n",
        "\n",
        "# Evaluar Random Forest\n",
        "print(\"\\n=== Evaluación de Random Forest ===\")\n",
        "evaluate_model(rf_model, X_test, y_test, y_pred_rf)\n"
      ],
      "metadata": {
        "colab": {
          "base_uri": "https://localhost:8080/",
          "height": 1000
        },
        "id": "kSUgOiFsnZzq",
        "outputId": "fdcdd883-858e-4f36-f96e-ac43adcd6913"
      },
      "execution_count": null,
      "outputs": [
        {
          "output_type": "stream",
          "name": "stdout",
          "text": [
            "\n",
            "=== Evaluación de Random Forest ===\n",
            "Accuracy: 0.7973358705994291\n",
            "Classification Report:\n",
            "              precision    recall  f1-score   support\n",
            "\n",
            "           0       0.78      0.74      0.76       451\n",
            "           1       0.81      0.84      0.83       600\n",
            "\n",
            "    accuracy                           0.80      1051\n",
            "   macro avg       0.79      0.79      0.79      1051\n",
            "weighted avg       0.80      0.80      0.80      1051\n",
            "\n"
          ]
        },
        {
          "output_type": "display_data",
          "data": {
            "text/plain": [
              "<Figure size 600x400 with 2 Axes>"
            ],
            "image/png": "[encoded data removed]"
          },
          "metadata": {}
        },
        {
          "output_type": "stream",
          "name": "stdout",
          "text": [
            "ROC-AUC Score: 0.8658776792313376\n"
          ]
        },
        {
          "output_type": "display_data",
          "data": {
            "text/plain": [
              "<Figure size 600x400 with 1 Axes>"
            ],
            "image/png": "[encoded data removed]"
          },
          "metadata": {}
        }
      ]
    },
    {
      "cell_type": "markdown",
      "source": [
        "## Modelo SVM:"
      ],
      "metadata": {
        "id": "GVBdKSjRns5P"
      }
    },
    {
      "cell_type": "code",
      "source": [
        "from sklearn.svm import LinearSVC\n",
        "\n",
        "# Entrenar SVM\n",
        "svm_model = LinearSVC(random_state=42)\n",
        "svm_model.fit(X_train, y_train)\n",
        "\n",
        "# Hacer predicciones en el conjunto de prueba\n",
        "y_pred_svm = svm_model.predict(X_test)\n",
        "\n",
        "# Evaluar SVM\n",
        "print(\"\\n=== Evaluación de SVM ===\")\n",
        "evaluate_model(svm_model, X_test, y_test, y_pred_svm)\n"
      ],
      "metadata": {
        "colab": {
          "base_uri": "https://localhost:8080/",
          "height": 636
        },
        "id": "mywmXuGonrYN",
        "outputId": "433aee9c-d60f-4952-bb52-7778999fd28c"
      },
      "execution_count": null,
      "outputs": [
        {
          "output_type": "stream",
          "name": "stdout",
          "text": [
            "\n",
            "=== Evaluación de SVM ===\n",
            "Accuracy: 0.7916270218839201\n",
            "Classification Report:\n",
            "              precision    recall  f1-score   support\n",
            "\n",
            "           0       0.76      0.75      0.76       451\n",
            "           1       0.81      0.82      0.82       600\n",
            "\n",
            "    accuracy                           0.79      1051\n",
            "   macro avg       0.79      0.79      0.79      1051\n",
            "weighted avg       0.79      0.79      0.79      1051\n",
            "\n"
          ]
        },
        {
          "output_type": "display_data",
          "data": {
            "text/plain": [
              "<Figure size 600x400 with 2 Axes>"
            ],
            "image/png": "[encoded data removed]"
          },
          "metadata": {}
        }
      ]
    },
    {
      "cell_type": "markdown",
      "source": [
        "# modificando Hiperparametros\n",
        "## Validación cruzada para Naive Bayes"
      ],
      "metadata": {
        "id": "og9M1mvGtcdV"
      }
    },
    {
      "cell_type": "code",
      "source": [
        "from sklearn.model_selection import cross_val_score\n",
        "\n",
        "# Validación cruzada para Naive Bayes\n",
        "nb_model_cv = MultinomialNB()  # Modelo Naive Bayes para validación cruzada\n",
        "scores_nb = cross_val_score(nb_model_cv, X, y, cv=5, scoring='accuracy')  # 5-fold CV\n",
        "print(\"\\n=== Validación Cruzada: Naive Bayes ===\")\n",
        "print(\"Accuracy por fold:\", scores_nb)\n",
        "print(\"Accuracy promedio:\", scores_nb.mean())\n"
      ],
      "metadata": {
        "colab": {
          "base_uri": "https://localhost:8080/"
        },
        "id": "upwDcec3oPZm",
        "outputId": "7933f027-d562-4e67-9921-ec72921f6cd9"
      },
      "execution_count": null,
      "outputs": [
        {
          "output_type": "stream",
          "name": "stdout",
          "text": [
            "\n",
            "=== Validación Cruzada: Naive Bayes ===\n",
            "Accuracy por fold: [0.65556613 0.70313987 0.76879163 0.85142857 0.79428571]\n",
            "Accuracy promedio: 0.7546423814054641\n"
          ]
        }
      ]
    },
    {
      "cell_type": "code",
      "source": [
        "# Validación cruzada para Random Forest\n",
        "rf_model_cv = RandomForestClassifier(n_estimators=100, random_state=42)  # Modelo RF para validación cruzada\n",
        "scores_rf = cross_val_score(rf_model_cv, X, y, cv=5, scoring='accuracy')  # 5-fold CV\n",
        "print(\"\\n=== Validación Cruzada: Random Forest ===\")\n",
        "print(\"Accuracy por fold:\", scores_rf)\n",
        "print(\"Accuracy promedio:\", scores_rf.mean())\n"
      ],
      "metadata": {
        "colab": {
          "base_uri": "https://localhost:8080/"
        },
        "id": "qB4DmWJDtjho",
        "outputId": "059edba0-7806-4956-813a-41e2f3cca58a"
      },
      "execution_count": null,
      "outputs": [
        {
          "output_type": "stream",
          "name": "stdout",
          "text": [
            "\n",
            "=== Validación Cruzada: Random Forest ===\n",
            "Accuracy por fold: [0.63368221 0.73834443 0.82492864 0.84761905 0.77238095]\n",
            "Accuracy promedio: 0.7633910561370124\n"
          ]
        }
      ]
    },
    {
      "cell_type": "code",
      "source": [
        "from sklearn.svm import LinearSVC\n",
        "\n",
        "# Validación cruzada para SVM\n",
        "svm_model_cv = LinearSVC(random_state=42, max_iter=10000)  # Modelo SVM para validación cruzada\n",
        "scores_svm = cross_val_score(svm_model_cv, X, y, cv=5, scoring='accuracy')  # 5-fold CV\n",
        "print(\"\\n=== Validación Cruzada: SVM ===\")\n",
        "print(\"Accuracy por fold:\", scores_svm)\n",
        "print(\"Accuracy promedio:\", scores_svm.mean())\n"
      ],
      "metadata": {
        "colab": {
          "base_uri": "https://localhost:8080/"
        },
        "id": "s0lpNi_jtzju",
        "outputId": "5954e812-124e-47a5-80d7-3da3192b2f31"
      },
      "execution_count": null,
      "outputs": [
        {
          "output_type": "stream",
          "name": "stdout",
          "text": [
            "\n",
            "=== Validación Cruzada: SVM ===\n",
            "Accuracy por fold: [0.67269267 0.73168411 0.82397716 0.81904762 0.76      ]\n",
            "Accuracy promedio: 0.7614803135335959\n"
          ]
        }
      ]
    },
    {
      "cell_type": "code",
      "source": [
        "from sklearn.model_selection import cross_val_predict\n",
        "from sklearn.metrics import classification_report, confusion_matrix, roc_auc_score, roc_curve\n",
        "import matplotlib.pyplot as plt\n",
        "import seaborn as sns\n",
        "\n",
        "# Predicciones con validación cruzada\n",
        "y_pred_cv_rf = cross_val_predict(RandomForestClassifier(n_estimators=100, random_state=42), X, y, cv=5)\n",
        "\n",
        "# Matriz de confusión\n",
        "cm = confusion_matrix(y, y_pred_cv_rf)\n",
        "plt.figure(figsize=(6, 4))\n",
        "sns.heatmap(cm, annot=True, fmt='d', cmap='Blues', xticklabels=[0, 1], yticklabels=[0, 1])\n",
        "plt.title(\"Matriz de Confusión - Validación Cruzada (Random Forest)\")\n",
        "plt.xlabel(\"Predicciones\")\n",
        "plt.ylabel(\"Valores Reales\")\n",
        "plt.show()\n",
        "\n",
        "# Reporte de clasificación\n",
        "print(\"Reporte de Clasificación - Validación Cruzada (Random Forest):\")\n",
        "print(classification_report(y, y_pred_cv_rf))\n"
      ],
      "metadata": {
        "colab": {
          "base_uri": "https://localhost:8080/",
          "height": 584
        },
        "id": "ImNawaNEuC8B",
        "outputId": "0173e174-be75-485b-8cdd-0bc726a4c6e4"
      },
      "execution_count": null,
      "outputs": [
        {
          "output_type": "display_data",
          "data": {
            "text/plain": [
              "<Figure size 600x400 with 2 Axes>"
            ],
            "image/png": "[encoded data removed]"
          },
          "metadata": {}
        },
        {
          "output_type": "stream",
          "name": "stdout",
          "text": [
            "Reporte de Clasificación - Validación Cruzada (Random Forest):\n",
            "              precision    recall  f1-score   support\n",
            "\n",
            "           0       0.76      0.65      0.70      2253\n",
            "           1       0.76      0.85      0.80      3000\n",
            "\n",
            "    accuracy                           0.76      5253\n",
            "   macro avg       0.76      0.75      0.75      5253\n",
            "weighted avg       0.76      0.76      0.76      5253\n",
            "\n"
          ]
        }
      ]
    },
    {
      "cell_type": "code",
      "source": [
        "# Predicciones de probabilidades con validación cruzada\n",
        "rf_model = RandomForestClassifier(n_estimators=100, random_state=42)\n",
        "y_prob_cv_rf = cross_val_predict(rf_model, X, y, cv=5, method=\"predict_proba\")[:, 1]\n",
        "\n",
        "# Curva ROC\n",
        "fpr, tpr, _ = roc_curve(y, y_prob_cv_rf)\n",
        "auc = roc_auc_score(y, y_prob_cv_rf)\n",
        "\n",
        "plt.figure(figsize=(6, 4))\n",
        "plt.plot(fpr, tpr, label=f\"ROC Curve (AUC = {auc:.2f})\")\n",
        "plt.plot([0, 1], [0, 1], 'k--')\n",
        "plt.title(\"Curva ROC - Validación Cruzada (Random Forest)\")\n",
        "plt.xlabel(\"False Positive Rate\")\n",
        "plt.ylabel(\"True Positive Rate\")\n",
        "plt.legend()\n",
        "plt.show()\n"
      ],
      "metadata": {
        "colab": {
          "base_uri": "https://localhost:8080/",
          "height": 410
        },
        "id": "bhvNXvvZzVC_",
        "outputId": "fff81461-a510-4f11-f321-6d62f30d6cea"
      },
      "execution_count": null,
      "outputs": [
        {
          "output_type": "display_data",
          "data": {
            "text/plain": [
              "<Figure size 600x400 with 1 Axes>"
            ],
            "image/png": "[encoded data removed]"
          },
          "metadata": {}
        }
      ]
    },
    {
      "cell_type": "markdown",
      "source": [
        "Bayes"
      ],
      "metadata": {
        "id": "4VKywK351L6E"
      }
    },
    {
      "cell_type": "code",
      "source": [
        "# Predicciones con validación cruzada para Naive Bayes\n",
        "y_pred_cv_nb = cross_val_predict(MultinomialNB(), X, y, cv=5)\n",
        "\n",
        "# Matriz de confusión para Naive Bayes\n",
        "cm_nb = confusion_matrix(y, y_pred_cv_nb)\n",
        "plt.figure(figsize=(6, 4))\n",
        "sns.heatmap(cm_nb, annot=True, fmt='d', cmap='Blues', xticklabels=[0, 1], yticklabels=[0, 1])\n",
        "plt.title(\"Matriz de Confusión - Validación Cruzada (Naive Bayes)\")\n",
        "plt.xlabel(\"Predicciones\")\n",
        "plt.ylabel(\"Valores Reales\")\n",
        "plt.show()\n",
        "\n",
        "# Reporte de clasificación\n",
        "print(\"Reporte de Clasificación - Validación Cruzada (Naive Bayes):\")\n",
        "print(classification_report(y, y_pred_cv_nb))\n",
        "\n",
        "# Curva ROC (solo para modelos con predict_proba)\n",
        "nb_model = MultinomialNB()\n",
        "y_prob_cv_nb = cross_val_predict(nb_model, X, y, cv=5, method=\"predict_proba\")[:, 1]\n",
        "\n",
        "# Curva ROC para Naive Bayes\n",
        "fpr_nb, tpr_nb, _ = roc_curve(y, y_prob_cv_nb)\n",
        "auc_nb = roc_auc_score(y, y_prob_cv_nb)\n",
        "\n",
        "plt.figure(figsize=(6, 4))\n",
        "plt.plot(fpr_nb, tpr_nb, label=f\"ROC Curve (AUC = {auc_nb:.2f})\")\n",
        "plt.plot([0, 1], [0, 1], 'k--')\n",
        "plt.title(\"Curva ROC - Validación Cruzada (Naive Bayes)\")\n",
        "plt.xlabel(\"False Positive Rate\")\n",
        "plt.ylabel(\"True Positive Rate\")\n",
        "plt.legend()\n",
        "plt.show()\n"
      ],
      "metadata": {
        "colab": {
          "base_uri": "https://localhost:8080/",
          "height": 979
        },
        "id": "OHKlQVFczV6_",
        "outputId": "f108e604-f9ee-47d4-8ac5-fdd6d6673ab9"
      },
      "execution_count": null,
      "outputs": [
        {
          "output_type": "display_data",
          "data": {
            "text/plain": [
              "<Figure size 600x400 with 2 Axes>"
            ],
            "image/png": "[encoded data removed]"
          },
          "metadata": {}
        },
        {
          "output_type": "stream",
          "name": "stdout",
          "text": [
            "Reporte de Clasificación - Validación Cruzada (Naive Bayes):\n",
            "              precision    recall  f1-score   support\n",
            "\n",
            "           0       0.82      0.55      0.66      2253\n",
            "           1       0.73      0.91      0.81      3000\n",
            "\n",
            "    accuracy                           0.75      5253\n",
            "   macro avg       0.77      0.73      0.73      5253\n",
            "weighted avg       0.77      0.75      0.74      5253\n",
            "\n"
          ]
        },
        {
          "output_type": "display_data",
          "data": {
            "text/plain": [
              "<Figure size 600x400 with 1 Axes>"
            ],
            "image/png": "[encoded data removed]"
          },
          "metadata": {}
        }
      ]
    },
    {
      "cell_type": "code",
      "source": [
        "from sklearn.svm import LinearSVC\n",
        "\n",
        "# Predicciones con validación cruzada para SVM\n",
        "y_pred_cv_svm = cross_val_predict(LinearSVC(random_state=42, max_iter=10000), X, y, cv=5)\n",
        "\n",
        "# Matriz de confusión para SVM\n",
        "cm_svm = confusion_matrix(y, y_pred_cv_svm)\n",
        "plt.figure(figsize=(6, 4))\n",
        "sns.heatmap(cm_svm, annot=True, fmt='d', cmap='Blues', xticklabels=[0, 1], yticklabels=[0, 1])\n",
        "plt.title(\"Matriz de Confusión - Validación Cruzada (SVM)\")\n",
        "plt.xlabel(\"Predicciones\")\n",
        "plt.ylabel(\"Valores Reales\")\n",
        "plt.show()\n",
        "\n",
        "# Reporte de clasificación\n",
        "print(\"Reporte de Clasificación - Validación Cruzada (SVM):\")\n",
        "print(classification_report(y, y_pred_cv_svm))\n"
      ],
      "metadata": {
        "colab": {
          "base_uri": "https://localhost:8080/",
          "height": 584
        },
        "id": "mrg3iJzi1OhL",
        "outputId": "1e2a1086-5fe1-4182-d366-6d01d61ffe6d"
      },
      "execution_count": null,
      "outputs": [
        {
          "output_type": "display_data",
          "data": {
            "text/plain": [
              "<Figure size 600x400 with 2 Axes>"
            ],
            "image/png": "[encoded data removed]"
          },
          "metadata": {}
        },
        {
          "output_type": "stream",
          "name": "stdout",
          "text": [
            "Reporte de Clasificación - Validación Cruzada (SVM):\n",
            "              precision    recall  f1-score   support\n",
            "\n",
            "           0       0.75      0.67      0.71      2253\n",
            "           1       0.77      0.83      0.80      3000\n",
            "\n",
            "    accuracy                           0.76      5253\n",
            "   macro avg       0.76      0.75      0.75      5253\n",
            "weighted avg       0.76      0.76      0.76      5253\n",
            "\n"
          ]
        }
      ]
    },
    {
      "cell_type": "markdown",
      "source": [
        "#Seleccion del mejor modelo"
      ],
      "metadata": {
        "id": "J1DC3MQh6Pe4"
      }
    },
    {
      "cell_type": "code",
      "source": [
        "from sklearn.ensemble import RandomForestClassifier\n",
        "import joblib\n",
        "\n",
        "# Entrenar el modelo final con todo el conjunto de datos\n",
        "final_rf_model = RandomForestClassifier(n_estimators=100, random_state=42)\n",
        "final_rf_model.fit(X, y)\n",
        "\n",
        "# Guardar el modelo entrenado\n",
        "joblib.dump(final_rf_model, 'random_forest_final_model.pkl')\n",
        "print(\"Modelo final entrenado y guardado como 'random_forest_final_model.pkl'\")\n"
      ],
      "metadata": {
        "colab": {
          "base_uri": "https://localhost:8080/"
        },
        "id": "bGFepad-1ZXP",
        "outputId": "08b2e077-61ad-463a-84ba-9d43ef633090"
      },
      "execution_count": null,
      "outputs": [
        {
          "output_type": "stream",
          "name": "stdout",
          "text": [
            "Modelo final entrenado y guardado como 'random_forest_final_model.pkl'\n"
          ]
        }
      ]
    },
    {
      "cell_type": "code",
      "source": [
        "from sklearn.model_selection import GridSearchCV\n",
        "\n",
        "# Configurar los hiperparámetros a probar\n",
        "param_grid = {\n",
        "    'n_estimators': [100, 200, 300],\n",
        "    'max_depth': [10, 20, 30, None],\n",
        "    'min_samples_split': [2, 5, 10],\n",
        "    'min_samples_leaf': [1, 2, 4],\n",
        "}\n",
        "\n",
        "# Inicializar Random Forest y GridSearch\n",
        "rf_model = RandomForestClassifier(random_state=42)\n",
        "grid_search = GridSearchCV(estimator=rf_model, param_grid=param_grid, cv=5, scoring='accuracy', n_jobs=-1)\n",
        "\n",
        "# Ajustar el modelo con la búsqueda de hiperparámetros\n",
        "grid_search.fit(X, y)\n",
        "\n",
        "# Mejor combinación de hiperparámetros\n",
        "print(\"Mejores hiperparámetros:\", grid_search.best_params_)\n",
        "\n",
        "# Entrenar el modelo final con los mejores hiperparámetros\n",
        "optimized_rf_model = grid_search.best_estimator_\n",
        "\n",
        "# Guardar el modelo optimizado\n",
        "joblib.dump(optimized_rf_model, 'optimized_random_forest_model.pkl')\n",
        "print(\"Modelo optimizado entrenado y guardado como 'optimized_random_forest_model.pkl'\")\n"
      ],
      "metadata": {
        "colab": {
          "base_uri": "https://localhost:8080/"
        },
        "id": "nFG3KG7R6YCc",
        "outputId": "7e6d0cb5-8bda-458b-cc4c-10ffdeb6d2b5"
      },
      "execution_count": null,
      "outputs": [
        {
          "output_type": "stream",
          "name": "stdout",
          "text": [
            "Mejores hiperparámetros: {'max_depth': None, 'min_samples_leaf': 1, 'min_samples_split': 10, 'n_estimators': 300}\n",
            "Modelo optimizado entrenado y guardado como 'optimized_random_forest_model.pkl'\n"
          ]
        }
      ]
    },
    {
      "cell_type": "code",
      "source": [
        "# Validar el modelo optimizado con cross_val_predict\n",
        "y_pred_cv_optimized = cross_val_predict(optimized_rf_model, X, y, cv=5)\n",
        "\n",
        "# Matriz de confusión\n",
        "cm_optimized = confusion_matrix(y, y_pred_cv_optimized)\n",
        "plt.figure(figsize=(6, 4))\n",
        "sns.heatmap(cm_optimized, annot=True, fmt='d', cmap='Blues', xticklabels=[0, 1], yticklabels=[0, 1])\n",
        "plt.title(\"Matriz de Confusión - Validación Cruzada (Optimizado)\")\n",
        "plt.xlabel(\"Predicciones\")\n",
        "plt.ylabel(\"Valores Reales\")\n",
        "plt.show()\n",
        "\n",
        "# Reporte de clasificación\n",
        "print(\"Reporte de Clasificación - Validación Cruzada (Optimizado):\")\n",
        "print(classification_report(y, y_pred_cv_optimized))\n"
      ],
      "metadata": {
        "colab": {
          "base_uri": "https://localhost:8080/",
          "height": 585
        },
        "id": "uMOFiUZo6Y2G",
        "outputId": "052c0a05-d7df-4406-f9c0-401f78488e69"
      },
      "execution_count": null,
      "outputs": [
        {
          "output_type": "display_data",
          "data": {
            "text/plain": [
              "<Figure size 600x400 with 2 Axes>"
            ],
            "image/png": "[encoded data removed]"
          },
          "metadata": {}
        },
        {
          "output_type": "stream",
          "name": "stdout",
          "text": [
            "Reporte de Clasificación - Validación Cruzada (Optimizado):\n",
            "              precision    recall  f1-score   support\n",
            "\n",
            "           0       0.77      0.65      0.71      2253\n",
            "           1       0.77      0.85      0.81      3000\n",
            "\n",
            "    accuracy                           0.77      5253\n",
            "   macro avg       0.77      0.75      0.76      5253\n",
            "weighted avg       0.77      0.77      0.76      5253\n",
            "\n"
          ]
        }
      ]
    },
    {
      "cell_type": "code",
      "source": [
        "joblib.dump(rf_model, 'random_forest_model.pkl')\n"
      ],
      "metadata": {
        "colab": {
          "base_uri": "https://localhost:8080/"
        },
        "id": "DNeuVEg06cE7",
        "outputId": "0591fe93-917d-4548-a9b7-53704088c1be"
      },
      "execution_count": null,
      "outputs": [
        {
          "output_type": "execute_result",
          "data": {
            "text/plain": [
              "['random_forest_model.pkl']"
            ]
          },
          "metadata": {},
          "execution_count": 94
        }
      ]
    },
    {
      "cell_type": "code",
      "source": [
        "from sklearn.ensemble import RandomForestClassifier\n",
        "import joblib\n",
        "\n",
        "# Entrenar el modelo estándar nuevamente\n",
        "rf_model_standard = RandomForestClassifier(n_estimators=100, random_state=42)\n",
        "rf_model_standard.fit(X_train, y_train)  # Entrenar con X_train y y_train\n",
        "\n",
        "# Hacer predicciones en el conjunto de prueba\n",
        "y_pred_rf_standard = rf_model_standard.predict(X_test)  # Usar el modelo entrenado correctamente\n",
        "\n",
        "# Evaluar Random Forest estándar\n",
        "print(\"\\n=== Evaluación de Random Forest (Modelo Estándar) ===\")\n",
        "evaluate_model(rf_model_standard, X_test, y_test, y_pred_rf_standard)\n",
        "\n",
        "# Guardar el modelo estándar para usarlo en el futuro\n",
        "joblib.dump(rf_model_standard, 'random_forest_standard_model.pkl')\n",
        "print(\"Modelo estándar entrenado y guardado como 'random_forest_standard_model.pkl'\")\n"
      ],
      "metadata": {
        "colab": {
          "base_uri": "https://localhost:8080/",
          "height": 1000
        },
        "id": "u98IjHQY_ZMa",
        "outputId": "d64f610b-f579-4055-ea32-fa6914f2b149"
      },
      "execution_count": null,
      "outputs": [
        {
          "output_type": "stream",
          "name": "stdout",
          "text": [
            "\n",
            "=== Evaluación de Random Forest (Modelo Estándar) ===\n",
            "Accuracy: 0.7973358705994291\n",
            "Classification Report:\n",
            "              precision    recall  f1-score   support\n",
            "\n",
            "           0       0.78      0.74      0.76       451\n",
            "           1       0.81      0.84      0.83       600\n",
            "\n",
            "    accuracy                           0.80      1051\n",
            "   macro avg       0.79      0.79      0.79      1051\n",
            "weighted avg       0.80      0.80      0.80      1051\n",
            "\n"
          ]
        },
        {
          "output_type": "display_data",
          "data": {
            "text/plain": [
              "<Figure size 600x400 with 2 Axes>"
            ],
            "image/png": "[encoded data removed]"
          },
          "metadata": {}
        },
        {
          "output_type": "stream",
          "name": "stdout",
          "text": [
            "ROC-AUC Score: 0.8658776792313376\n"
          ]
        },
        {
          "output_type": "display_data",
          "data": {
            "text/plain": [
              "<Figure size 600x400 with 1 Axes>"
            ],
            "image/png": "[encoded data removed]"
          },
          "metadata": {}
        },
        {
          "output_type": "stream",
          "name": "stdout",
          "text": [
            "Modelo estándar entrenado y guardado como 'random_forest_standard_model.pkl'\n"
          ]
        }
      ]
    },
    {
      "cell_type": "code",
      "source": [
        "# Guardar el modelo estándar\n",
        "joblib.dump(rf_model_standard, 'random_forest_standard_model.pkl')\n",
        "print(\"Modelo estándar entrenado y guardado como 'random_forest_standard_model.pkl'\")\n"
      ],
      "metadata": {
        "colab": {
          "base_uri": "https://localhost:8080/"
        },
        "id": "p91H9WTuCeuv",
        "outputId": "1d43da49-8d7b-461b-a198-1b05ba244792"
      },
      "execution_count": null,
      "outputs": [
        {
          "output_type": "stream",
          "name": "stdout",
          "text": [
            "Modelo estándar entrenado y guardado como 'random_forest_standard_model.pkl'\n"
          ]
        }
      ]
    },
    {
      "cell_type": "code",
      "source": [
        "from sklearn.feature_extraction.text import TfidfVectorizer\n",
        "\n",
        "# Configuración de TF-IDF para unigramas y bigramas, con 5000 características\n",
        "vectorizer = TfidfVectorizer(\n",
        "    max_features=5000,        # Limitar el número máximo de palabras\n",
        "    ngram_range=(1, 2),       # Considerar unigramas y bigramas\n",
        "    stop_words=None           # No aplicar stopwords aquí, ya se manejaron antes\n",
        ")\n",
        "\n",
        "# Aplicar TF-IDF a los comentarios limpios\n",
        "X = vectorizer.fit_transform(df_balanceado['Comentario_Limpiado'])\n",
        "\n",
        "# Etiquetas (Calificación Binaria)\n",
        "y = df_balanceado['Calificación_Binaria']\n",
        "\n",
        "# Verificar dimensiones de la matriz TF-IDF\n",
        "print(\"Dimensiones de la matriz TF-IDF:\", X.shape)\n",
        "\n",
        "# Mostrar las palabras más importantes (opcional)\n",
        "print(\"\\nPalabras más importantes según TF-IDF:\")\n",
        "print(vectorizer.get_feature_names_out()[:20])  # Las primeras 20 palabras"
      ],
      "metadata": {
        "colab": {
          "base_uri": "https://localhost:8080/"
        },
        "id": "T8_KO2kWDrB9",
        "outputId": "d9435a96-2006-4572-9814-cf3b5baf2b90"
      },
      "execution_count": null,
      "outputs": [
        {
          "output_type": "stream",
          "name": "stdout",
          "text": [
            "Dimensiones de la matriz TF-IDF: (5253, 5000)\n",
            "\n",
            "Palabras más importantes según TF-IDF:\n",
            "['abierta' 'abierto' 'abonar' 'abren' 'abril' 'abrir' 'absolutamente'\n",
            " 'absoluto' 'absurdo' 'abuela' 'abundante' 'abysmo' 'ac' 'acabo'\n",
            " 'accesible' 'accesibles' 'acceso' 'aceite' 'aceptable' 'aceptaron']\n"
          ]
        }
      ]
    },
    {
      "cell_type": "code",
      "source": [
        "# Guardar el vectorizador\n",
        "joblib.dump(vectorizer, 'vectorizer1.pkl')\n",
        "print(\"Vectorizador guardado como 'vectorizer.pkl'\")"
      ],
      "metadata": {
        "colab": {
          "base_uri": "https://localhost:8080/"
        },
        "id": "H7QBcG3uGAIB",
        "outputId": "20c0b9fe-7c4e-4257-9d71-f2d09e92c9df"
      },
      "execution_count": null,
      "outputs": [
        {
          "output_type": "stream",
          "name": "stdout",
          "text": [
            "Vectorizador guardado como 'vectorizer.pkl'\n"
          ]
        }
      ]
    },
    {
      "cell_type": "code",
      "source": [],
      "metadata": {
        "id": "p2Zf5neRGEdV"
      },
      "execution_count": null,
      "outputs": []
    }
  ]
}